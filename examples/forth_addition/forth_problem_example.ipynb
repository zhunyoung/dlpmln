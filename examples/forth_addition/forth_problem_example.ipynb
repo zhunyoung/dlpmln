{
 "cells": [
  {
   "cell_type": "markdown",
   "metadata": {},
   "source": [
    "# Forth Problem"
   ]
  },
  {
   "cell_type": "markdown",
   "metadata": {},
   "source": [
    "## Imports"
   ]
  },
  {
   "cell_type": "code",
   "execution_count": 1,
   "metadata": {},
   "outputs": [],
   "source": [
    "import sys\n",
    "sys.path.append(\"../../\")\n",
    "sys.path.append(\"../\")\n",
    "from dlpmln import DeepLPMLN\n",
    "import torch\n",
    "\n",
    "import torch.nn as nn\n",
    "from torchvision import datasets, transforms\n",
    "from torch.utils.data import DataLoader\n",
    "import time\n",
    "\n",
    "from data_function import create_data_sample,format_dataList,format_observations,add_test,carry_test"
   ]
  },
  {
   "cell_type": "markdown",
   "metadata": {},
   "source": [
    "## dprogram"
   ]
  },
  {
   "cell_type": "markdown",
   "metadata": {},
   "source": [
    "Specify the DeepLPMLN program."
   ]
  },
  {
   "cell_type": "code",
   "execution_count": 2,
   "metadata": {},
   "outputs": [],
   "source": [
    "dprogram='''\n",
    "num1(1,num1_1).\n",
    "num1(0,num1_0).\n",
    "num2(1,num2_1).\n",
    "num2(0,num2_0).\n",
    "1{carry(0,Carry): Carry=0..1}1.\n",
    "nn(m1(A, B, Carry, 1), result, [0,1,2,3,4,5,6,7,8,9]) :- num1(P,A), num2(P,B), Carry=0..1.\n",
    "nn(m2(A, B, Carry, 1), carry, [0,1]) :- num1(P,A), num2(P,B), Carry=0..1.\n",
    "\n",
    "result(P,X) :- num1(P, A), num2(P, B), carry(P, Carry), result(A,B,Carry,0,X).\n",
    "carry(P+1,X) :- num1(P, A), num2(P, B), carry(P, Carry), carry(A,B,Carry,0,X).\n",
    "'''"
   ]
  },
  {
   "cell_type": "markdown",
   "metadata": {},
   "source": [
    "## Neural Network Class"
   ]
  },
  {
   "cell_type": "markdown",
   "metadata": {},
   "source": [
    "Create the neural network class that will be used for our data."
   ]
  },
  {
   "cell_type": "code",
   "execution_count": 3,
   "metadata": {},
   "outputs": [],
   "source": [
    "class FC(nn.Module):\n",
    "\n",
    "    def __init__(self, *sizes):\n",
    "        super(FC, self).__init__()\n",
    "        layers = []\n",
    "        for i in range(len(sizes)-2):\n",
    "            layers.append(nn.Linear(sizes[i], sizes[i+1]))\n",
    "            layers.append(nn.ReLU())\n",
    "        layers.append(nn.Linear(sizes[-2], sizes[-1]))\n",
    "        layers.append(nn.Softmax(1))\n",
    "        self.nn = nn.Sequential(*layers)\n",
    "\n",
    "    def forward(self, x):\n",
    "        return self.nn(x)"
   ]
  },
  {
   "cell_type": "markdown",
   "metadata": {},
   "source": [
    "## Neural Network Instantiation\n",
    "- Instantiate neural networks.\n",
    "- Map neural networks into the NNMapping function called 'function'.\n",
    "- Specify the optimizers for each network (we use the Adam optimizer here)."
   ]
  },
  {
   "cell_type": "code",
   "execution_count": 4,
   "metadata": {},
   "outputs": [],
   "source": [
    "m1 = FC(30,25,10) # network for adding the numbers\n",
    "m2 = FC(30,5,2)   # network for finding the carry out\n",
    "\n",
    "\n",
    "functions = {'m1':m1, 'm2':m2} #NNMapping\n",
    "\n",
    "optimizers = {'m1':torch.optim.Adam(m1.parameters(), lr=0.01),'m2':torch.optim.Adam(m2.parameters(), lr=0.01)}\n"
   ]
  },
  {
   "cell_type": "markdown",
   "metadata": {},
   "source": [
    "Below are 20 samples of data."
   ]
  },
  {
   "cell_type": "code",
   "execution_count": 5,
   "metadata": {
    "scrolled": true
   },
   "outputs": [
    {
     "name": "stdout",
     "output_type": "stream",
     "text": [
      "add([3,9],[5,1],0,[0,9,0]).\n",
      "add([2,0],[9,9],1,[1,2,0]).\n",
      "add([9,3],[6,7],1,[1,6,1]).\n",
      "add([3,7],[1,5],0,[0,5,2]).\n",
      "add([0,6],[0,6],0,[0,1,2]).\n",
      "add([0,9],[6,6],1,[0,7,6]).\n",
      "add([8,1],[2,3],1,[1,0,5]).\n",
      "add([9,3],[9,5],0,[1,8,8]).\n",
      "add([6,4],[4,7],1,[1,1,2]).\n",
      "add([2,0],[3,1],0,[0,5,1]).\n",
      "add([7,2],[6,0],1,[1,3,3]).\n",
      "add([0,5],[6,7],0,[0,7,2]).\n",
      "add([8,4],[2,0],0,[1,0,4]).\n",
      "add([1,6],[6,7],1,[0,8,4]).\n",
      "add([4,8],[0,3],0,[0,5,1]).\n",
      "add([3,0],[0,6],0,[0,3,6]).\n",
      "add([2,1],[5,5],0,[0,7,6]).\n",
      "add([3,4],[6,9],0,[1,0,3]).\n",
      "add([1,9],[9,4],0,[1,1,3]).\n",
      "add([2,0],[4,5],1,[0,6,6]).\n"
     ]
    }
   ],
   "source": [
    "for i in range(20):\n",
    "    print(create_data_sample()[0])"
   ]
  },
  {
   "cell_type": "code",
   "execution_count": 6,
   "metadata": {},
   "outputs": [
    {
     "name": "stdout",
     "output_type": "stream",
     "text": [
      "\n",
      "\n",
      "\n",
      "add([2,9],[2,4],0,[0,5,3]).\n",
      "\n",
      "\n",
      "{'num1_0,num2_0,0': tensor([[0., 0., 0., 0., 0., 0., 0., 0., 0., 1., 0., 0., 0., 0., 1., 0., 0., 0.,\n",
      "         0., 0., 1., 0., 0., 0., 0., 0., 0., 0., 0., 0.]]), 'num1_0,num2_0,1': tensor([[0., 0., 0., 0., 0., 0., 0., 0., 0., 1., 0., 0., 0., 0., 1., 0., 0., 0.,\n",
      "         0., 0., 0., 1., 0., 0., 0., 0., 0., 0., 0., 0.]]), 'num1_1,num2_1,0': tensor([[0., 0., 1., 0., 0., 0., 0., 0., 0., 0., 0., 0., 1., 0., 0., 0., 0., 0.,\n",
      "         0., 0., 1., 0., 0., 0., 0., 0., 0., 0., 0., 0.]]), 'num1_1,num2_1,1': tensor([[0., 0., 1., 0., 0., 0., 0., 0., 0., 0., 0., 0., 1., 0., 0., 0., 0., 0.,\n",
      "         0., 0., 0., 1., 0., 0., 0., 0., 0., 0., 0., 0.]])}\n",
      "\n",
      "    :-not carry(0,0).\n",
      "    :-not carry(2,0).\n",
      "    :-not result(1,5).\n",
      "    :-not result(0,3).\n",
      "    \n"
     ]
    }
   ],
   "source": [
    "print('\\n\\n')\n",
    "\n",
    "obs,str_list=create_data_sample() #data sample the same as DeepProbLog used \n",
    "print(obs+'\\n\\n')\n",
    "\n",
    "dl=format_dataList(obs,str_list) # dataList item\n",
    "print(dl)\n",
    "\n",
    "o=format_observations(obs,str_list) # obsList item\n",
    "print(o)"
   ]
  },
  {
   "cell_type": "markdown",
   "metadata": {},
   "source": [
    "## Create dataList and obsList \n",
    "\n",
    "This the code that will use format_dataList() and format_observations() to build the data set that our DeepLPMLN object will train on."
   ]
  },
  {
   "cell_type": "code",
   "execution_count": 7,
   "metadata": {},
   "outputs": [],
   "source": [
    "dataList = []\n",
    "obsList = []\n",
    "\n",
    "train_size=512\n",
    "test_size=512\n",
    "\n",
    "\n",
    "for i in range(train_size):\n",
    "    \n",
    "    obs,str_list=create_data_sample()\n",
    "    \n",
    "    dataList.append(format_dataList(obs,str_list))\n",
    "    obsList.append(format_observations(obs,str_list))"
   ]
  },
  {
   "cell_type": "markdown",
   "metadata": {},
   "source": [
    "## Create test dataset and dataLoader for neural network \"m1\""
   ]
  },
  {
   "cell_type": "code",
   "execution_count": 8,
   "metadata": {},
   "outputs": [],
   "source": [
    "add_test_dataset=add_test(test_size)\n",
    "\n",
    "add_test_dataloader=DataLoader(add_test_dataset,batch_size=4,shuffle=True)\n",
    "\n",
    "carry_test_dataset=carry_test(test_size)\n",
    "\n",
    "carry_test_dataloader=DataLoader(carry_test_dataset,batch_size=4,shuffle=True)\n",
    "\n"
   ]
  },
  {
   "cell_type": "markdown",
   "metadata": {},
   "source": [
    "## Create DeepLPMLN object"
   ]
  },
  {
   "cell_type": "code",
   "execution_count": 9,
   "metadata": {},
   "outputs": [],
   "source": [
    "dlpmlnObj = DeepLPMLN(dprogram, functions, optimizers, dynamicMVPP=False)\n",
    "#dlpmlnObj.device='cpu' #put the training on the CPU"
   ]
  },
  {
   "cell_type": "markdown",
   "metadata": {},
   "source": [
    "## Training and Testing "
   ]
  },
  {
   "cell_type": "code",
   "execution_count": 11,
   "metadata": {
    "scrolled": true
   },
   "outputs": [
    {
     "name": "stdout",
     "output_type": "stream",
     "text": [
      "training...\n",
      "Training for epoch 1 ...\n",
      "Test Accuracy on NN Only for m1: 24%\n",
      "Test Accuracy on NN Only for m2: 94%\n",
      "--- train time: 62.55606293678284 seconds ---\n",
      "--- test time: 0.17960882186889648 seconds ---\n",
      "Training for epoch 1 ...\n",
      "Test Accuracy on NN Only for m1: 45%\n",
      "Test Accuracy on NN Only for m2: 95%\n",
      "--- train time: 61.6912202835083 seconds ---\n",
      "--- test time: 0.1522836685180664 seconds ---\n",
      "Training for epoch 1 ...\n",
      "Test Accuracy on NN Only for m1: 65%\n",
      "Test Accuracy on NN Only for m2: 96%\n",
      "--- train time: 62.49382996559143 seconds ---\n",
      "--- test time: 0.15027737617492676 seconds ---\n",
      "Training for epoch 1 ...\n",
      "Test Accuracy on NN Only for m1: 72%\n",
      "Test Accuracy on NN Only for m2: 97%\n",
      "--- train time: 61.55917572975159 seconds ---\n",
      "--- test time: 0.16235613822937012 seconds ---\n",
      "Training for epoch 1 ...\n",
      "Test Accuracy on NN Only for m1: 82%\n",
      "Test Accuracy on NN Only for m2: 97%\n",
      "--- train time: 61.81846737861633 seconds ---\n",
      "--- test time: 0.16585087776184082 seconds ---\n",
      "Training for epoch 1 ...\n",
      "Test Accuracy on NN Only for m1: 85%\n",
      "Test Accuracy on NN Only for m2: 98%\n",
      "--- train time: 61.940245628356934 seconds ---\n",
      "--- test time: 0.15128040313720703 seconds ---\n",
      "Training for epoch 1 ...\n",
      "Test Accuracy on NN Only for m1: 90%\n",
      "Test Accuracy on NN Only for m2: 99%\n",
      "--- train time: 62.8420832157135 seconds ---\n",
      "--- test time: 0.17275309562683105 seconds ---\n",
      "Training for epoch 1 ...\n",
      "Test Accuracy on NN Only for m1: 93%\n",
      "Test Accuracy on NN Only for m2: 100%\n",
      "--- train time: 62.15478539466858 seconds ---\n",
      "--- test time: 0.14688754081726074 seconds ---\n",
      "Training for epoch 1 ...\n",
      "Test Accuracy on NN Only for m1: 97%\n",
      "Test Accuracy on NN Only for m2: 100%\n",
      "--- train time: 61.64046835899353 seconds ---\n",
      "--- test time: 0.17567920684814453 seconds ---\n",
      "Training for epoch 1 ...\n",
      "Test Accuracy on NN Only for m1: 97%\n",
      "Test Accuracy on NN Only for m2: 100%\n",
      "--- train time: 61.96166110038757 seconds ---\n",
      "--- test time: 0.14054417610168457 seconds ---\n",
      "Training for epoch 1 ...\n",
      "Test Accuracy on NN Only for m1: 99%\n",
      "Test Accuracy on NN Only for m2: 100%\n",
      "--- train time: 61.88101005554199 seconds ---\n",
      "--- test time: 0.14956998825073242 seconds ---\n",
      "Training for epoch 1 ...\n",
      "Test Accuracy on NN Only for m1: 99%\n",
      "Test Accuracy on NN Only for m2: 100%\n",
      "--- train time: 62.454402446746826 seconds ---\n",
      "--- test time: 0.14639949798583984 seconds ---\n",
      "Training for epoch 1 ...\n",
      "Test Accuracy on NN Only for m1: 100%\n",
      "Test Accuracy on NN Only for m2: 100%\n",
      "--- train time: 62.41005039215088 seconds ---\n",
      "--- test time: 0.14154553413391113 seconds ---\n",
      "Training for epoch 1 ...\n",
      "Test Accuracy on NN Only for m1: 100%\n",
      "Test Accuracy on NN Only for m2: 100%\n",
      "--- train time: 61.94438719749451 seconds ---\n",
      "--- test time: 0.14593029022216797 seconds ---\n",
      "Training for epoch 1 ...\n",
      "Test Accuracy on NN Only for m1: 100%\n",
      "Test Accuracy on NN Only for m2: 100%\n",
      "--- train time: 61.856508016586304 seconds ---\n",
      "--- test time: 0.14054393768310547 seconds ---\n",
      "Training for epoch 1 ...\n",
      "Test Accuracy on NN Only for m1: 100%\n",
      "Test Accuracy on NN Only for m2: 100%\n",
      "--- train time: 61.741191148757935 seconds ---\n",
      "--- test time: 0.1410810947418213 seconds ---\n",
      "Training for epoch 1 ...\n",
      "Test Accuracy on NN Only for m1: 100%\n",
      "Test Accuracy on NN Only for m2: 100%\n",
      "--- train time: 61.870935916900635 seconds ---\n",
      "--- test time: 0.18949151039123535 seconds ---\n",
      "Training for epoch 1 ...\n",
      "Test Accuracy on NN Only for m1: 100%\n",
      "Test Accuracy on NN Only for m2: 100%\n",
      "--- train time: 61.53652572631836 seconds ---\n",
      "--- test time: 0.1455836296081543 seconds ---\n",
      "Training for epoch 1 ...\n",
      "Test Accuracy on NN Only for m1: 100%\n",
      "Test Accuracy on NN Only for m2: 100%\n",
      "--- train time: 61.75784730911255 seconds ---\n",
      "--- test time: 0.15057039260864258 seconds ---\n",
      "Training for epoch 1 ...\n",
      "Test Accuracy on NN Only for m1: 100%\n",
      "Test Accuracy on NN Only for m2: 100%\n",
      "--- train time: 61.78953313827515 seconds ---\n",
      "--- test time: 0.15057373046875 seconds ---\n",
      "Training for epoch 1 ...\n",
      "Test Accuracy on NN Only for m1: 100%\n",
      "Test Accuracy on NN Only for m2: 100%\n",
      "--- train time: 61.95823812484741 seconds ---\n",
      "--- test time: 0.14957451820373535 seconds ---\n",
      "Training for epoch 1 ...\n",
      "Test Accuracy on NN Only for m1: 100%\n",
      "Test Accuracy on NN Only for m2: 100%\n",
      "--- train time: 61.4872841835022 seconds ---\n",
      "--- test time: 0.14063453674316406 seconds ---\n",
      "Training for epoch 1 ...\n",
      "Test Accuracy on NN Only for m1: 100%\n",
      "Test Accuracy on NN Only for m2: 100%\n",
      "--- train time: 61.07964754104614 seconds ---\n",
      "--- test time: 0.1437087059020996 seconds ---\n",
      "Training for epoch 1 ...\n",
      "Test Accuracy on NN Only for m1: 100%\n",
      "Test Accuracy on NN Only for m2: 100%\n",
      "--- train time: 61.19040489196777 seconds ---\n",
      "--- test time: 0.13962388038635254 seconds ---\n",
      "Training for epoch 1 ...\n",
      "Test Accuracy on NN Only for m1: 100%\n",
      "Test Accuracy on NN Only for m2: 100%\n",
      "--- train time: 61.02296710014343 seconds ---\n",
      "--- test time: 0.15456008911132812 seconds ---\n",
      "Training for epoch 1 ...\n",
      "Test Accuracy on NN Only for m1: 100%\n",
      "Test Accuracy on NN Only for m2: 100%\n",
      "--- train time: 61.457366704940796 seconds ---\n",
      "--- test time: 0.14261865615844727 seconds ---\n",
      "Training for epoch 1 ...\n",
      "Test Accuracy on NN Only for m1: 100%\n",
      "Test Accuracy on NN Only for m2: 100%\n",
      "--- train time: 60.921184062957764 seconds ---\n",
      "--- test time: 0.15755581855773926 seconds ---\n",
      "Training for epoch 1 ...\n",
      "Test Accuracy on NN Only for m1: 94%\n",
      "Test Accuracy on NN Only for m2: 100%\n",
      "--- train time: 60.90223026275635 seconds ---\n",
      "--- test time: 0.1625659465789795 seconds ---\n",
      "Training for epoch 1 ...\n",
      "Test Accuracy on NN Only for m1: 100%\n",
      "Test Accuracy on NN Only for m2: 100%\n",
      "--- train time: 60.8191134929657 seconds ---\n",
      "--- test time: 0.13962411880493164 seconds ---\n",
      "Training for epoch 1 ...\n",
      "Test Accuracy on NN Only for m1: 100%\n",
      "Test Accuracy on NN Only for m2: 100%\n",
      "--- train time: 61.25613498687744 seconds ---\n",
      "--- test time: 0.15711736679077148 seconds ---\n",
      "Training for epoch 1 ...\n",
      "Test Accuracy on NN Only for m1: 100%\n",
      "Test Accuracy on NN Only for m2: 100%\n",
      "--- train time: 61.314544677734375 seconds ---\n",
      "--- test time: 0.1396040916442871 seconds ---\n",
      "Training for epoch 1 ...\n",
      "Test Accuracy on NN Only for m1: 100%\n",
      "Test Accuracy on NN Only for m2: 100%\n",
      "--- train time: 61.288930892944336 seconds ---\n",
      "--- test time: 0.157578706741333 seconds ---\n",
      "Training for epoch 1 ...\n",
      "Test Accuracy on NN Only for m1: 100%\n",
      "Test Accuracy on NN Only for m2: 100%\n",
      "--- train time: 61.36242938041687 seconds ---\n",
      "--- test time: 0.1396031379699707 seconds ---\n",
      "Training for epoch 1 ...\n",
      "Test Accuracy on NN Only for m1: 100%\n",
      "Test Accuracy on NN Only for m2: 100%\n",
      "--- train time: 61.086249113082886 seconds ---\n",
      "--- test time: 0.14312314987182617 seconds ---\n",
      "Training for epoch 1 ...\n",
      "Test Accuracy on NN Only for m1: 100%\n",
      "Test Accuracy on NN Only for m2: 100%\n",
      "--- train time: 61.54304003715515 seconds ---\n",
      "--- test time: 0.15625262260437012 seconds ---\n",
      "Training for epoch 1 ...\n",
      "Test Accuracy on NN Only for m1: 100%\n",
      "Test Accuracy on NN Only for m2: 100%\n",
      "--- train time: 61.5866641998291 seconds ---\n",
      "--- test time: 0.14957141876220703 seconds ---\n",
      "Training for epoch 1 ...\n",
      "Test Accuracy on NN Only for m1: 100%\n",
      "Test Accuracy on NN Only for m2: 100%\n",
      "--- train time: 62.083953857421875 seconds ---\n",
      "--- test time: 0.15361952781677246 seconds ---\n",
      "Training for epoch 1 ...\n",
      "Test Accuracy on NN Only for m1: 100%\n",
      "Test Accuracy on NN Only for m2: 100%\n",
      "--- train time: 62.245474338531494 seconds ---\n",
      "--- test time: 0.14609003067016602 seconds ---\n",
      "Training for epoch 1 ...\n",
      "Test Accuracy on NN Only for m1: 100%\n",
      "Test Accuracy on NN Only for m2: 100%\n",
      "--- train time: 61.74147129058838 seconds ---\n",
      "--- test time: 0.14860200881958008 seconds ---\n",
      "Training for epoch 1 ...\n",
      "Test Accuracy on NN Only for m1: 100%\n",
      "Test Accuracy on NN Only for m2: 100%\n",
      "--- train time: 61.63696002960205 seconds ---\n",
      "--- test time: 0.1605696678161621 seconds ---\n"
     ]
    }
   ],
   "source": [
    "print('training...')\n",
    "\n",
    "for i in range(40):\n",
    "    time1 = time.time()\n",
    "    dlpmlnObj.learn(dataList=dataList, obsList=obsList, epoch=1)\n",
    "    time2 = time.time()\n",
    "    dlpmlnObj.testNN(\"m1\", add_test_dataloader) #test m1 network\n",
    "    dlpmlnObj.testNN(\"m2\", carry_test_dataloader) #test m2 network\n",
    "    print(\"--- train time: %s seconds ---\" % (time2 - time1))\n",
    "    print(\"--- test time: %s seconds ---\" % (time.time() - time2))"
   ]
  }
 ],
 "metadata": {
  "kernelspec": {
   "display_name": "Python 3",
   "language": "python",
   "name": "python3"
  },
  "language_info": {
   "codemirror_mode": {
    "name": "ipython",
    "version": 3
   },
   "file_extension": ".py",
   "mimetype": "text/x-python",
   "name": "python",
   "nbconvert_exporter": "python",
   "pygments_lexer": "ipython3",
   "version": "3.7.1"
  }
 },
 "nbformat": 4,
 "nbformat_minor": 2
}
