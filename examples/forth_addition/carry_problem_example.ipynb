{
 "cells": [
  {
   "cell_type": "markdown",
   "metadata": {},
   "source": [
    "# Forth Problem"
   ]
  },
  {
   "cell_type": "markdown",
   "metadata": {},
   "source": [
    "## Imports"
   ]
  },
  {
   "cell_type": "code",
   "execution_count": 1,
   "metadata": {},
   "outputs": [],
   "source": [
    "import sys\n",
    "sys.path.append(\"../../\")\n",
    "sys.path.append(\"../\")\n",
    "from dlpmln import DeepLPMLN\n",
    "import torch\n",
    "\n",
    "import torch.nn as nn\n",
    "from torchvision import datasets, transforms\n",
    "from torch.utils.data import DataLoader\n",
    "import time\n",
    "\n",
    "from data_function import create_data_sample,format_dataList,format_observations,add_test,carry_test"
   ]
  },
  {
   "cell_type": "markdown",
   "metadata": {},
   "source": [
    "## dprogram"
   ]
  },
  {
   "cell_type": "markdown",
   "metadata": {},
   "source": [
    "Specify the DeepLPMLN program."
   ]
  },
  {
   "cell_type": "code",
   "execution_count": 2,
   "metadata": {},
   "outputs": [],
   "source": [
    "dprogram='''\n",
    "num1(1,num1_1).\n",
    "num1(0,num1_0).\n",
    "num2(1,num2_1).\n",
    "num2(0,num2_0).\n",
    "1{carry(0,Carry): Carry=0..1}1.\n",
    "nn(m1(A, B, Carry, 1), result, [0,1,2,3,4,5,6,7,8,9]) :- num1(P,A), num2(P,B), Carry=0..1.\n",
    "nn(m2(A, B, Carry, 1), carry, [0,1]) :- num1(P,A), num2(P,B), Carry=0..1.\n",
    "\n",
    "result(P,X) :- num1(P, A), num2(P, B), carry(P, Carry), result(A,B,Carry,0,X).\n",
    "carry(P+1,X) :- num1(P, A), num2(P, B), carry(P, Carry), carry(A,B,Carry,0,X).\n",
    "'''"
   ]
  },
  {
   "cell_type": "markdown",
   "metadata": {},
   "source": [
    "## Neural Network Class"
   ]
  },
  {
   "cell_type": "markdown",
   "metadata": {},
   "source": [
    "Create the neural network class that will be used for our data."
   ]
  },
  {
   "cell_type": "code",
   "execution_count": 3,
   "metadata": {},
   "outputs": [],
   "source": [
    "class FC(nn.Module):\n",
    "\n",
    "    def __init__(self, *sizes):\n",
    "        super(FC, self).__init__()\n",
    "        layers = []\n",
    "        for i in range(len(sizes)-2):\n",
    "            layers.append(nn.Linear(sizes[i], sizes[i+1]))\n",
    "            layers.append(nn.ReLU())\n",
    "        layers.append(nn.Linear(sizes[-2], sizes[-1]))\n",
    "        layers.append(nn.Softmax(1))\n",
    "        self.nn = nn.Sequential(*layers)\n",
    "\n",
    "    def forward(self, x):\n",
    "        return self.nn(x)"
   ]
  },
  {
   "cell_type": "markdown",
   "metadata": {},
   "source": [
    "## Neural Network Instantiation\n",
    "- Instantiate neural networks.\n",
    "- Map neural networks into the NNMapping function called 'function'.\n",
    "- Specify the optimizers for each network (we use the Adam optimizer here)."
   ]
  },
  {
   "cell_type": "code",
   "execution_count": 4,
   "metadata": {},
   "outputs": [],
   "source": [
    "m1 = FC(30,25,10) # network for adding the numbers\n",
    "m2 = FC(30,5,2)   # network for finding the carry out\n",
    "\n",
    "\n",
    "functions = {'m1':m1, 'm2':m2} #NNMapping\n",
    "\n",
    "optimizers = {'m1':torch.optim.Adam(m1.parameters(), lr=0.01),'m2':torch.optim.Adam(m2.parameters(), lr=0.01)}\n"
   ]
  },
  {
   "cell_type": "markdown",
   "metadata": {},
   "source": [
    "Below are 20 samples of data."
   ]
  },
  {
   "cell_type": "code",
   "execution_count": 5,
   "metadata": {
    "scrolled": true
   },
   "outputs": [
    {
     "name": "stdout",
     "output_type": "stream",
     "text": [
      "add([6,2],[6,2],0,[1,2,4]).\n",
      "add([8,9],[3,0],0,[1,1,9]).\n",
      "add([8,8],[7,5],1,[1,6,4]).\n",
      "add([3,6],[7,0],1,[1,0,7]).\n",
      "add([0,3],[8,8],1,[0,9,2]).\n",
      "add([0,3],[3,3],0,[0,3,6]).\n",
      "add([5,3],[1,3],1,[0,6,7]).\n",
      "add([6,4],[8,5],1,[1,5,0]).\n",
      "add([0,8],[2,6],0,[0,3,4]).\n",
      "add([6,9],[7,6],1,[1,4,6]).\n",
      "add([6,2],[3,7],1,[1,0,0]).\n",
      "add([7,2],[9,0],1,[1,6,3]).\n",
      "add([9,8],[7,4],0,[1,7,2]).\n",
      "add([5,8],[4,1],1,[1,0,0]).\n",
      "add([3,1],[6,1],1,[0,9,3]).\n",
      "add([3,6],[9,8],0,[1,3,4]).\n",
      "add([8,1],[7,1],1,[1,5,3]).\n",
      "add([2,8],[0,4],0,[0,3,2]).\n",
      "add([8,4],[5,7],0,[1,4,1]).\n",
      "add([6,2],[8,6],1,[1,4,9]).\n"
     ]
    }
   ],
   "source": [
    "for i in range(20):\n",
    "    print(create_data_sample()[0])"
   ]
  },
  {
   "cell_type": "code",
   "execution_count": 6,
   "metadata": {},
   "outputs": [
    {
     "name": "stdout",
     "output_type": "stream",
     "text": [
      "\n",
      "\n",
      "\n",
      "add([5,4],[8,9],0,[1,4,3]).\n",
      "\n",
      "\n",
      "{'num1_0,num2_0,0': tensor([[0., 0., 0., 0., 1., 0., 0., 0., 0., 0., 0., 0., 0., 0., 0., 0., 0., 0.,\n",
      "         0., 1., 1., 0., 0., 0., 0., 0., 0., 0., 0., 0.]]), 'num1_0,num2_0,1': tensor([[0., 0., 0., 0., 1., 0., 0., 0., 0., 0., 0., 0., 0., 0., 0., 0., 0., 0.,\n",
      "         0., 1., 0., 1., 0., 0., 0., 0., 0., 0., 0., 0.]]), 'num1_1,num2_1,0': tensor([[0., 0., 0., 0., 0., 1., 0., 0., 0., 0., 0., 0., 0., 0., 0., 0., 0., 0.,\n",
      "         1., 0., 1., 0., 0., 0., 0., 0., 0., 0., 0., 0.]]), 'num1_1,num2_1,1': tensor([[0., 0., 0., 0., 0., 1., 0., 0., 0., 0., 0., 0., 0., 0., 0., 0., 0., 0.,\n",
      "         1., 0., 0., 1., 0., 0., 0., 0., 0., 0., 0., 0.]])}\n",
      "\n",
      "    :-not carry(0,0).\n",
      "    :-not carry(2,1).\n",
      "    :-not result(1,4).\n",
      "    :-not result(0,3).\n",
      "    \n"
     ]
    }
   ],
   "source": [
    "print('\\n\\n')\n",
    "\n",
    "obs,str_list=create_data_sample() #data sample the same as DeepProbLog used \n",
    "print(obs+'\\n\\n')\n",
    "\n",
    "dl=format_dataList(obs,str_list) # dataList item\n",
    "print(dl)\n",
    "\n",
    "o=format_observations(obs,str_list) # obsList item\n",
    "print(o)"
   ]
  },
  {
   "cell_type": "markdown",
   "metadata": {},
   "source": [
    "## Create dataList and obsList \n",
    "\n",
    "This the code that will use format_dataList() and format_observations() to build the data set that our DeepLPMLN object will train on."
   ]
  },
  {
   "cell_type": "code",
   "execution_count": 7,
   "metadata": {},
   "outputs": [],
   "source": [
    "dataList = []\n",
    "obsList = []\n",
    "\n",
    "train_size=512\n",
    "test_size=512\n",
    "\n",
    "\n",
    "for i in range(train_size):\n",
    "    \n",
    "    obs,str_list=create_data_sample()\n",
    "    \n",
    "    dataList.append(format_dataList(obs,str_list))\n",
    "    obsList.append(format_observations(obs,str_list))"
   ]
  },
  {
   "cell_type": "markdown",
   "metadata": {},
   "source": [
    "## Create test dataset and dataLoader for neural network \"m1\""
   ]
  },
  {
   "cell_type": "code",
   "execution_count": 8,
   "metadata": {},
   "outputs": [],
   "source": [
    "add_test_dataset=add_test(test_size)\n",
    "\n",
    "add_test_dataloader=DataLoader(add_test_dataset,batch_size=4,shuffle=True)\n",
    "\n",
    "carry_test_dataset=carry_test(test_size)\n",
    "\n",
    "carry_test_dataloader=DataLoader(carry_test_dataset,batch_size=4,shuffle=True)\n",
    "\n"
   ]
  },
  {
   "cell_type": "markdown",
   "metadata": {},
   "source": [
    "## Create DeepLPMLN object"
   ]
  },
  {
   "cell_type": "code",
   "execution_count": 9,
   "metadata": {},
   "outputs": [],
   "source": [
    "dlpmlnObj = DeepLPMLN(dprogram, functions, optimizers, dynamicMVPP=False)\n",
    "#dlpmlnObj.device='cpu' #put the training on the CPU"
   ]
  },
  {
   "cell_type": "markdown",
   "metadata": {},
   "source": [
    "## Training and Testing "
   ]
  },
  {
   "cell_type": "code",
   "execution_count": 10,
   "metadata": {
    "scrolled": false
   },
   "outputs": [
    {
     "name": "stdout",
     "output_type": "stream",
     "text": [
      "training...\n",
      "Training for epoch 1 ...\n",
      "Test Accuracy on NN Only for m1: 27%\n",
      "Test Accuracy on NN Only for m2: 95%\n",
      "--- train time: 67.33205151557922 seconds ---\n",
      "--- test time: 0.31531667709350586 seconds ---\n",
      "Training for epoch 1 ...\n",
      "Test Accuracy on NN Only for m1: 61%\n",
      "Test Accuracy on NN Only for m2: 97%\n",
      "--- train time: 68.79846572875977 seconds ---\n",
      "--- test time: 0.3114442825317383 seconds ---\n",
      "Training for epoch 1 ...\n",
      "Test Accuracy on NN Only for m1: 77%\n",
      "Test Accuracy on NN Only for m2: 98%\n",
      "--- train time: 69.78857159614563 seconds ---\n",
      "--- test time: 0.32141780853271484 seconds ---\n",
      "Training for epoch 1 ...\n",
      "Test Accuracy on NN Only for m1: 87%\n",
      "Test Accuracy on NN Only for m2: 99%\n",
      "--- train time: 69.18318724632263 seconds ---\n",
      "--- test time: 0.35251712799072266 seconds ---\n",
      "Training for epoch 1 ...\n",
      "Test Accuracy on NN Only for m1: 92%\n",
      "Test Accuracy on NN Only for m2: 99%\n",
      "--- train time: 67.57443952560425 seconds ---\n",
      "--- test time: 0.13956046104431152 seconds ---\n",
      "Training for epoch 1 ...\n",
      "Test Accuracy on NN Only for m1: 95%\n",
      "Test Accuracy on NN Only for m2: 100%\n",
      "--- train time: 60.749024868011475 seconds ---\n",
      "--- test time: 0.16214489936828613 seconds ---\n",
      "Training for epoch 1 ...\n",
      "Test Accuracy on NN Only for m1: 95%\n",
      "Test Accuracy on NN Only for m2: 99%\n",
      "--- train time: 60.611573934555054 seconds ---\n",
      "--- test time: 0.15055418014526367 seconds ---\n",
      "Training for epoch 1 ...\n",
      "Test Accuracy on NN Only for m1: 96%\n",
      "Test Accuracy on NN Only for m2: 100%\n",
      "--- train time: 61.45639610290527 seconds ---\n",
      "--- test time: 0.13677287101745605 seconds ---\n",
      "Training for epoch 1 ...\n",
      "Test Accuracy on NN Only for m1: 97%\n",
      "Test Accuracy on NN Only for m2: 98%\n",
      "--- train time: 72.93755722045898 seconds ---\n",
      "--- test time: 0.6871044635772705 seconds ---\n",
      "Training for epoch 1 ...\n",
      "Test Accuracy on NN Only for m1: 97%\n",
      "Test Accuracy on NN Only for m2: 100%\n",
      "--- train time: 82.19964861869812 seconds ---\n",
      "--- test time: 0.5455827713012695 seconds ---\n",
      "Training for epoch 1 ...\n",
      "Test Accuracy on NN Only for m1: 98%\n",
      "Test Accuracy on NN Only for m2: 100%\n",
      "--- train time: 83.81101107597351 seconds ---\n",
      "--- test time: 0.6509904861450195 seconds ---\n",
      "Training for epoch 1 ...\n",
      "Test Accuracy on NN Only for m1: 98%\n",
      "Test Accuracy on NN Only for m2: 100%\n",
      "--- train time: 82.78631496429443 seconds ---\n",
      "--- test time: 0.6265912055969238 seconds ---\n",
      "Training for epoch 1 ...\n",
      "Test Accuracy on NN Only for m1: 97%\n",
      "Test Accuracy on NN Only for m2: 100%\n",
      "--- train time: 83.65483236312866 seconds ---\n",
      "--- test time: 0.6871163845062256 seconds ---\n",
      "Training for epoch 1 ...\n",
      "Test Accuracy on NN Only for m1: 99%\n",
      "Test Accuracy on NN Only for m2: 100%\n",
      "--- train time: 83.27377009391785 seconds ---\n",
      "--- test time: 0.49968910217285156 seconds ---\n",
      "Training for epoch 1 ...\n",
      "Test Accuracy on NN Only for m1: 99%\n",
      "Test Accuracy on NN Only for m2: 100%\n",
      "--- train time: 82.82471203804016 seconds ---\n",
      "--- test time: 0.6968636512756348 seconds ---\n",
      "Training for epoch 1 ...\n",
      "Test Accuracy on NN Only for m1: 99%\n",
      "Test Accuracy on NN Only for m2: 100%\n",
      "--- train time: 82.123206615448 seconds ---\n",
      "--- test time: 0.6792941093444824 seconds ---\n",
      "Training for epoch 1 ...\n",
      "Test Accuracy on NN Only for m1: 99%\n",
      "Test Accuracy on NN Only for m2: 100%\n",
      "--- train time: 82.92329239845276 seconds ---\n",
      "--- test time: 0.6783201694488525 seconds ---\n",
      "Training for epoch 1 ...\n",
      "Test Accuracy on NN Only for m1: 99%\n",
      "Test Accuracy on NN Only for m2: 100%\n",
      "--- train time: 81.70250415802002 seconds ---\n",
      "--- test time: 0.5433166027069092 seconds ---\n",
      "Training for epoch 1 ...\n",
      "Test Accuracy on NN Only for m1: 99%\n",
      "Test Accuracy on NN Only for m2: 100%\n",
      "--- train time: 84.5551118850708 seconds ---\n",
      "--- test time: 0.6736626625061035 seconds ---\n",
      "Training for epoch 1 ...\n",
      "Test Accuracy on NN Only for m1: 99%\n",
      "Test Accuracy on NN Only for m2: 100%\n",
      "--- train time: 82.05278253555298 seconds ---\n",
      "--- test time: 0.6493029594421387 seconds ---\n",
      "Training for epoch 1 ...\n",
      "Test Accuracy on NN Only for m1: 93%\n",
      "Test Accuracy on NN Only for m2: 100%\n",
      "--- train time: 80.27772164344788 seconds ---\n",
      "--- test time: 0.6021740436553955 seconds ---\n",
      "Training for epoch 1 ...\n",
      "Test Accuracy on NN Only for m1: 98%\n",
      "Test Accuracy on NN Only for m2: 100%\n",
      "--- train time: 79.27881360054016 seconds ---\n",
      "--- test time: 0.5642261505126953 seconds ---\n",
      "Training for epoch 1 ...\n",
      "Test Accuracy on NN Only for m1: 99%\n",
      "Test Accuracy on NN Only for m2: 100%\n",
      "--- train time: 77.90423893928528 seconds ---\n",
      "--- test time: 0.5115621089935303 seconds ---\n",
      "Training for epoch 1 ...\n",
      "Test Accuracy on NN Only for m1: 99%\n",
      "Test Accuracy on NN Only for m2: 100%\n",
      "--- train time: 77.5786395072937 seconds ---\n",
      "--- test time: 0.551638126373291 seconds ---\n",
      "Training for epoch 1 ...\n",
      "Test Accuracy on NN Only for m1: 99%\n",
      "Test Accuracy on NN Only for m2: 100%\n",
      "--- train time: 76.82517957687378 seconds ---\n",
      "--- test time: 0.40728282928466797 seconds ---\n",
      "Training for epoch 1 ...\n",
      "Test Accuracy on NN Only for m1: 99%\n",
      "Test Accuracy on NN Only for m2: 100%\n",
      "--- train time: 77.27298974990845 seconds ---\n",
      "--- test time: 0.4494667053222656 seconds ---\n",
      "Training for epoch 1 ...\n",
      "Test Accuracy on NN Only for m1: 99%\n",
      "Test Accuracy on NN Only for m2: 100%\n",
      "--- train time: 77.33160972595215 seconds ---\n",
      "--- test time: 0.5815756320953369 seconds ---\n",
      "Training for epoch 1 ...\n",
      "Test Accuracy on NN Only for m1: 99%\n",
      "Test Accuracy on NN Only for m2: 100%\n",
      "--- train time: 78.18888521194458 seconds ---\n",
      "--- test time: 0.5888791084289551 seconds ---\n",
      "Training for epoch 1 ...\n",
      "Test Accuracy on NN Only for m1: 99%\n",
      "Test Accuracy on NN Only for m2: 100%\n",
      "--- train time: 77.85960817337036 seconds ---\n",
      "--- test time: 0.48970675468444824 seconds ---\n",
      "Training for epoch 1 ...\n",
      "Test Accuracy on NN Only for m1: 99%\n",
      "Test Accuracy on NN Only for m2: 100%\n",
      "--- train time: 80.00271582603455 seconds ---\n",
      "--- test time: 0.6087124347686768 seconds ---\n",
      "Training for epoch 1 ...\n",
      "Test Accuracy on NN Only for m1: 99%\n",
      "Test Accuracy on NN Only for m2: 100%\n",
      "--- train time: 79.97082257270813 seconds ---\n",
      "--- test time: 0.5154221057891846 seconds ---\n",
      "Training for epoch 1 ...\n",
      "Test Accuracy on NN Only for m1: 99%\n",
      "Test Accuracy on NN Only for m2: 100%\n",
      "--- train time: 79.7111074924469 seconds ---\n",
      "--- test time: 0.43822455406188965 seconds ---\n",
      "Training for epoch 1 ...\n",
      "Test Accuracy on NN Only for m1: 99%\n",
      "Test Accuracy on NN Only for m2: 100%\n",
      "--- train time: 80.51465177536011 seconds ---\n",
      "--- test time: 0.32598400115966797 seconds ---\n",
      "Training for epoch 1 ...\n",
      "Test Accuracy on NN Only for m1: 99%\n",
      "Test Accuracy on NN Only for m2: 100%\n",
      "--- train time: 77.89360904693604 seconds ---\n",
      "--- test time: 0.5455851554870605 seconds ---\n",
      "Training for epoch 1 ...\n",
      "Test Accuracy on NN Only for m1: 99%\n",
      "Test Accuracy on NN Only for m2: 100%\n",
      "--- train time: 78.11914300918579 seconds ---\n",
      "--- test time: 0.5273027420043945 seconds ---\n",
      "Training for epoch 1 ...\n",
      "Test Accuracy on NN Only for m1: 99%\n",
      "Test Accuracy on NN Only for m2: 100%\n",
      "--- train time: 78.1728618144989 seconds ---\n",
      "--- test time: 0.5842077732086182 seconds ---\n",
      "Training for epoch 1 ...\n",
      "Test Accuracy on NN Only for m1: 99%\n",
      "Test Accuracy on NN Only for m2: 100%\n",
      "--- train time: 77.33732914924622 seconds ---\n",
      "--- test time: 0.5475082397460938 seconds ---\n",
      "Training for epoch 1 ...\n",
      "Test Accuracy on NN Only for m1: 99%\n",
      "Test Accuracy on NN Only for m2: 100%\n",
      "--- train time: 78.58043479919434 seconds ---\n",
      "--- test time: 0.556396484375 seconds ---\n",
      "Training for epoch 1 ...\n",
      "Test Accuracy on NN Only for m1: 99%\n",
      "Test Accuracy on NN Only for m2: 100%\n",
      "--- train time: 80.65932559967041 seconds ---\n",
      "--- test time: 0.4280080795288086 seconds ---\n",
      "Training for epoch 1 ...\n",
      "Test Accuracy on NN Only for m1: 99%\n",
      "Test Accuracy on NN Only for m2: 100%\n",
      "--- train time: 77.89271521568298 seconds ---\n",
      "--- test time: 0.5676283836364746 seconds ---\n"
     ]
    }
   ],
   "source": [
    "print('training...')\n",
    "test_acc1=[]\n",
    "test_acc2=[]\n",
    "\n",
    "for i in range(40):\n",
    "    time1 = time.time()\n",
    "    dlpmlnObj.learn(dataList=dataList, obsList=obsList, epoch=1)\n",
    "    time2 = time.time()\n",
    "    test_acc1.append(dlpmlnObj.testNN(\"m1\", add_test_dataloader)) #test m1 network\n",
    "    test_acc2.append(dlpmlnObj.testNN(\"m2\", carry_test_dataloader)) #test m2 network\n",
    "    print(\"--- train time: %s seconds ---\" % (time2 - time1))\n",
    "    print(\"--- test time: %s seconds ---\" % (time.time() - time2))"
   ]
  }
 ],
 "metadata": {
  "kernelspec": {
   "display_name": "Python 3",
   "language": "python",
   "name": "python3"
  },
  "language_info": {
   "codemirror_mode": {
    "name": "ipython",
    "version": 3
   },
   "file_extension": ".py",
   "mimetype": "text/x-python",
   "name": "python",
   "nbconvert_exporter": "python",
   "pygments_lexer": "ipython3",
   "version": "3.7.1"
  }
 },
 "nbformat": 4,
 "nbformat_minor": 2
}
