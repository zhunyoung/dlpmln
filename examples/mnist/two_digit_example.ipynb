{
 "cells": [
  {
   "cell_type": "markdown",
   "metadata": {},
   "source": [
    "# Two-digit sum"
   ]
  },
  {
   "cell_type": "markdown",
   "metadata": {},
   "source": [
    "## Imports"
   ]
  },
  {
   "cell_type": "code",
   "execution_count": 2,
   "metadata": {},
   "outputs": [],
   "source": [
    "import sys\n",
    "sys.path.append(\"../../\")\n",
    "from dlpmln import DeepLPMLN\n",
    "from digit_network import Net, device\n",
    "import torch\n",
    "from torchvision import datasets, transforms\n",
    "import time\n"
   ]
  },
  {
   "cell_type": "markdown",
   "metadata": {},
   "source": [
    "## dprogram"
   ]
  },
  {
   "cell_type": "code",
   "execution_count": 10,
   "metadata": {},
   "outputs": [],
   "source": [
    "dprogram = '''\n",
    "img(i1; i2; i3; i4). \n",
    "addition(i1,i2,i3,i4,N) :- digit(i1,0,N1), digit(i2,0,N2), digit(i3,0,N3), digit(i4,0,N4), N=N1*10+N2 + N3*10+N4.\n",
    "nn(m(X,1), digit, [0,1,2,3,4,5,6,7,8,9]) :- img(X).\n",
    "'''"
   ]
  },
  {
   "cell_type": "code",
   "execution_count": 17,
   "metadata": {},
   "outputs": [],
   "source": [
    "kwargs = {'num_workers': 0, 'pin_memory': True} if torch.cuda.is_available() else {} "
   ]
  },
  {
   "cell_type": "markdown",
   "metadata": {},
   "source": [
    "## create Pytorch Dataset and dataLoaders"
   ]
  },
  {
   "cell_type": "code",
   "execution_count": 18,
   "metadata": {},
   "outputs": [],
   "source": [
    "train_loader = torch.utils.data.DataLoader(\n",
    "\tdatasets.MNIST('./data', train=True, download=True,\n",
    "\t\t\t\t   transform=transforms.Compose([\n",
    "\t\t\t\t\t   transforms.ToTensor(),\n",
    "\t\t\t\t\t   transforms.Normalize((0.1307,), (0.3081,))\n",
    "\t\t\t\t   ])),\n",
    "\tbatch_size=4, shuffle=True, **kwargs)\n",
    "\n",
    "test_loader = torch.utils.data.DataLoader(\n",
    "\tdatasets.MNIST('./data', train=False, transform=transforms.Compose([\n",
    "\t\t\t\t\t   transforms.ToTensor(),\n",
    "\t\t\t\t\t   transforms.Normalize((0.1307,), (0.3081,))\n",
    "\t\t\t\t   ])),\n",
    "\tbatch_size=1000, shuffle=True, **kwargs)\n"
   ]
  },
  {
   "cell_type": "markdown",
   "metadata": {},
   "source": [
    "## Create Neural network"
   ]
  },
  {
   "cell_type": "code",
   "execution_count": 19,
   "metadata": {},
   "outputs": [],
   "source": [
    "m = Net().to(device)\n",
    "functions = {'m':m}\n",
    "optimizers = {'m':torch.optim.Adam(m.parameters(), lr=0.001)}\n"
   ]
  },
  {
   "cell_type": "markdown",
   "metadata": {},
   "source": [
    "## Create dataList and obsList"
   ]
  },
  {
   "cell_type": "code",
   "execution_count": 20,
   "metadata": {},
   "outputs": [],
   "source": [
    "dataList = []\n",
    "obsList = []\n",
    "for batch in train_loader:\n",
    "\tdataList.append({\"i1\":batch[0][0].view(1, 1, 28, 28), \"i2\":batch[0][1].view(1, 1, 28, 28),\"i3\":batch[0][2].view(1, 1, 28, 28),\"i4\":batch[0][3].view(1, 1, 28, 28)})\n",
    "\tobsList.append(\":- not addition(i1, i2, i3, i4, {}).\".format( batch[1][0]*10+batch[1][1]+batch[1][2]*10+batch[1][3]))"
   ]
  },
  {
   "cell_type": "markdown",
   "metadata": {},
   "source": [
    "## Create DEEPLPMLN object"
   ]
  },
  {
   "cell_type": "code",
   "execution_count": 23,
   "metadata": {},
   "outputs": [],
   "source": [
    "dlpmlnObj = DeepLPMLN(dprogram, functions, optimizers)"
   ]
  },
  {
   "cell_type": "markdown",
   "metadata": {},
   "source": [
    "## Training and Testing"
   ]
  },
  {
   "cell_type": "code",
   "execution_count": 24,
   "metadata": {
    "scrolled": true
   },
   "outputs": [
    {
     "name": "stdout",
     "output_type": "stream",
     "text": [
      "Training for epoch 1 ...\n",
      "Test Accuracy on NN Only for m: 98%\n",
      "--- train time: 592.0333757400513 seconds ---\n",
      "--- test time: 1.1113839149475098 seconds ---\n"
     ]
    }
   ],
   "source": [
    "\n",
    "time1 = time.time()\n",
    "acc_list=dlpmlnObj.learn(dataList=dataList, obsList=obsList, epoch=1)\n",
    "time2 = time.time()\n",
    "dlpmlnObj.testNN(\"m\", test_loader)\n",
    "print(\"--- train time: %s seconds ---\" % (time2 - time1))\n",
    "print(\"--- test time: %s seconds ---\" % (time.time() - time2))\n",
    "    "
   ]
  }
 ],
 "metadata": {
  "kernelspec": {
   "display_name": "Python 3",
   "language": "python",
   "name": "python3"
  },
  "language_info": {
   "codemirror_mode": {
    "name": "ipython",
    "version": 3
   },
   "file_extension": ".py",
   "mimetype": "text/x-python",
   "name": "python",
   "nbconvert_exporter": "python",
   "pygments_lexer": "ipython3",
   "version": "3.7.1"
  }
 },
 "nbformat": 4,
 "nbformat_minor": 2
}
