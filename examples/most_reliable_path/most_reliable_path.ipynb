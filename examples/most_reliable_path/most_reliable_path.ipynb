{
 "cells": [
  {
   "cell_type": "markdown",
   "metadata": {},
   "source": [
    "# Most Reliable Path"
   ]
  },
  {
   "cell_type": "markdown",
   "metadata": {},
   "source": [
    "Most Reliable Path (MRP) is a variant of the Shortest Path Problem, where, each edge is\n",
    "randomly associated with probabilities (0.512 or 0.8) which denotes the “reliability” of the edge,\n",
    "and the task is to find the most reliable path between the source and the destination node. We\n",
    "do not remove edges this time.\n",
    "\n",
    "We use the same 5-layer MLP in the SP experiment as the baseline. We also use the simplepath and the reachability constraints to train the neural network by DeepLPMLN. Besides, we\n",
    "use weak constraints to represent the probability of each edge in the grid."
   ]
  },
  {
   "cell_type": "markdown",
   "metadata": {},
   "source": [
    "## Data Format\n",
    "\n",
    "In dataGen.py, a class named \"GridProbData\" is defined in the following way.\n",
    "\n",
    "GridProbData class has 6 attributes: train_data, test_data, valid_data, train_labels, test_labels, valid_labels.\n",
    "\n",
    "train_data is an numpy array of size (1800, 40). It consists of 1800 data as follows \n",
    "\n",
    "        [  \n",
    "          data,  \n",
    "          ...,  \n",
    "          data  \n",
    "        ]  \n",
    "\n",
    "where data is a vector (numpy array) of length 40. For example, the data shown below  \n",
    "\n",
    "        [  \n",
    "          0.512 0.8 0.512 0.8 0.512  \n",
    "          0.512 0.8 0.512 0.512 0.8  \n",
    "          0.8 0.512 0.512 0.8 0.512  \n",
    "          0.512 0.512 0.512 0.512 0.8  \n",
    "          0.512 0.8 0.512 0.8  \n",
    "          10000 00000 01000 0  \n",
    "        ]  \n",
    "\n",
    "defines the 24 probabilities of the 24 edges and specified that the nodes 0 and 11 are the starting and ending nodes.  \n",
    "train_labels is an numpy array of size (1800, 24). It consists of 1800 label as follows.  \n",
    "\n",
    "        [  \n",
    "          label,  \n",
    "          ...,  \n",
    "          label  \n",
    "        ]  \n",
    "\n",
    "where label is a vector (numpy array) of length 24. For example, the label shown below  \n",
    "\n",
    "        [11100 00000 00000 00000 0110]  \n",
    "\n",
    "means that the edges 0, 1, 2, 21, 22 form a most reliable path.  \n",
    "test_data is a numpy array of size (600, 40).  \n",
    "valid_data is a numpy array of size (600, 40).  \n",
    "test_labels is a numpy array of size (600, 24).  \n",
    "valid_labels is a numpy array of size (600, 24).  \n",
    "\n"
   ]
  },
  {
   "cell_type": "markdown",
   "metadata": {},
   "source": [
    "## Imports"
   ]
  },
  {
   "cell_type": "code",
   "execution_count": 1,
   "metadata": {},
   "outputs": [],
   "source": [
    "import sys\n",
    "sys.path.append(\"../../\")\n",
    "import random\n",
    "import time\n",
    "\n",
    "import numpy as np\n",
    "import torch\n",
    "from torch.autograd import Variable\n",
    "\n",
    "from dataGen import GridProbData\n",
    "from dlpmln import DeepLPMLN\n",
    "from network import FC"
   ]
  },
  {
   "cell_type": "code",
   "execution_count": 2,
   "metadata": {},
   "outputs": [],
   "source": [
    "\n",
    "import os,sys,inspect\n",
    "currentdir = os.path.dirname(os.path.abspath(inspect.getfile(inspect.currentframe())))\n",
    "parentdir = os.path.dirname(currentdir)\n",
    "sys.path.insert(0,parentdir) \n",
    "\n",
    "from dlpmln import DeepLPMLN\n"
   ]
  },
  {
   "cell_type": "markdown",
   "metadata": {},
   "source": [
    "## DeepLPMLN Programs for Training and Testing"
   ]
  },
  {
   "cell_type": "code",
   "execution_count": 3,
   "metadata": {},
   "outputs": [],
   "source": [
    "dprogram = '''\n",
    "grid(g).\n",
    "nn(m(g,24), nn_edge, [t,f]) :- grid(g).\n",
    "sp(0,1) :- nn_edge(g, 0, t).\n",
    "sp(1,2) :- nn_edge(g, 1, t).\n",
    "sp(2,3) :- nn_edge(g, 2, t).\n",
    "sp(4,5) :- nn_edge(g, 3, t).\n",
    "sp(5,6) :- nn_edge(g, 4, t).\n",
    "sp(6,7) :- nn_edge(g, 5, t).\n",
    "sp(8,9) :- nn_edge(g, 6, t).\n",
    "sp(9,10) :- nn_edge(g, 7, t).\n",
    "sp(10,11) :- nn_edge(g, 8, t).\n",
    "sp(12,13) :- nn_edge(g, 9, t).\n",
    "sp(13,14) :- nn_edge(g, 10, t).\n",
    "sp(14,15) :- nn_edge(g, 11, t).\n",
    "sp(0,4) :- nn_edge(g, 12, t).\n",
    "sp(4,8) :- nn_edge(g, 13, t).\n",
    "sp(8,12) :- nn_edge(g, 14, t).\n",
    "sp(1,5) :- nn_edge(g, 15, t).\n",
    "sp(5,9) :- nn_edge(g, 16, t).\n",
    "sp(9,13) :- nn_edge(g, 17, t).\n",
    "sp(2,6) :- nn_edge(g, 18, t).\n",
    "sp(6,10) :- nn_edge(g, 19, t).\n",
    "sp(10,14) :- nn_edge(g, 20, t).\n",
    "sp(3,7) :- nn_edge(g, 21, t).\n",
    "sp(7,11) :- nn_edge(g, 22, t).\n",
    "sp(11,15) :- nn_edge(g, 23, t).\n",
    "sp(X,Y) :- sp(Y,X).\n",
    "mistake :- X=0..15, #count{Y: sp(X,Y)} = 1.\n",
    "mistake :- X=0..15, #count{Y: sp(X,Y)} >= 3.\n",
    "reachable(X, Y) :- sp(X, Y).\n",
    "reachable(X, Y) :- reachable(X, Z), sp(Z, Y).\n",
    "mistake :- sp(X, _), sp(Y, _), not reachable(X, Y).\n",
    "'''\n",
    "\n",
    "dprogram_test = '''\n",
    "grid(g).\n",
    "sp(0,1) :- nn_edge(g, 0, t).\n",
    "sp(1,2) :- nn_edge(g, 1, t).\n",
    "sp(2,3) :- nn_edge(g, 2, t).\n",
    "sp(4,5) :- nn_edge(g, 3, t).\n",
    "sp(5,6) :- nn_edge(g, 4, t).\n",
    "sp(6,7) :- nn_edge(g, 5, t).\n",
    "sp(8,9) :- nn_edge(g, 6, t).\n",
    "sp(9,10) :- nn_edge(g, 7, t).\n",
    "sp(10,11) :- nn_edge(g, 8, t).\n",
    "sp(12,13) :- nn_edge(g, 9, t).\n",
    "sp(13,14) :- nn_edge(g, 10, t).\n",
    "sp(14,15) :- nn_edge(g, 11, t).\n",
    "sp(0,4) :- nn_edge(g, 12, t).\n",
    "sp(4,8) :- nn_edge(g, 13, t).\n",
    "sp(8,12) :- nn_edge(g, 14, t).\n",
    "sp(1,5) :- nn_edge(g, 15, t).\n",
    "sp(5,9) :- nn_edge(g, 16, t).\n",
    "sp(9,13) :- nn_edge(g, 17, t).\n",
    "sp(2,6) :- nn_edge(g, 18, t).\n",
    "sp(6,10) :- nn_edge(g, 19, t).\n",
    "sp(10,14) :- nn_edge(g, 20, t).\n",
    "sp(3,7) :- nn_edge(g, 21, t).\n",
    "sp(7,11) :- nn_edge(g, 22, t).\n",
    "sp(11,15) :- nn_edge(g, 23, t).\n",
    "sp(X,Y) :- sp(Y,X).\n",
    "mistake :- X=0..15, #count{Y: sp(X,Y)} = 1.\n",
    "mistake :- X=0..15, #count{Y: sp(X,Y)} >= 3.\n",
    "reachable(X, Y) :- sp(X, Y).\n",
    "reachable(X, Y) :- reachable(X, Z), sp(Z, Y).\n",
    "mistake :- sp(X, _), sp(Y, _), not reachable(X, Y).\n",
    "'''"
   ]
  },
  {
   "cell_type": "markdown",
   "metadata": {},
   "source": [
    "## Neural Network Instantiation\n",
    "- Instantiate neural networks.\n",
    "- Define nnMapping: a dictionary that maps neural network names (i.e., strings) to the neural network objects (i.e., torch.nn.Module object)\n",
    "- Define optimizers: a dictionary that specifies the optimizer for each network (we use the Adam optimizer here)."
   ]
  },
  {
   "cell_type": "code",
   "execution_count": 4,
   "metadata": {
    "scrolled": true
   },
   "outputs": [
    {
     "name": "stdout",
     "output_type": "stream",
     "text": [
      "Neural Network (MLP) Structure: (40, 50, 50, 50, 50, 50, 24)\n"
     ]
    }
   ],
   "source": [
    "m = FC(40, 50, 50, 50, 50, 50, 24)\n",
    "nnMapping = {'m': m}\n",
    "optimizers = {'m':torch.optim.Adam(m.parameters(), lr=0.001)}"
   ]
  },
  {
   "cell_type": "markdown",
   "metadata": {},
   "source": [
    "## Create DeepLPMLN object"
   ]
  },
  {
   "cell_type": "code",
   "execution_count": 5,
   "metadata": {},
   "outputs": [],
   "source": [
    "dlpmlnObj = DeepLPMLN(dprogram, nnMapping, optimizers)"
   ]
  },
  {
   "cell_type": "markdown",
   "metadata": {},
   "source": [
    "## Create dataList and obsList for Training, testDataList and testObsList for Testing\n",
    "### Create the dataset object"
   ]
  },
  {
   "cell_type": "code",
   "execution_count": 6,
   "metadata": {},
   "outputs": [
    {
     "name": "stdout",
     "output_type": "stream",
     "text": [
      "there are 3000 data in total, 60% training data, 20% validation data, 20% testing data!\n"
     ]
    }
   ],
   "source": [
    "dataset = GridProbData(\"data/data.txt\")"
   ]
  },
  {
   "cell_type": "markdown",
   "metadata": {},
   "source": [
    "### Construct dataList and obsList"
   ]
  },
  {
   "cell_type": "code",
   "execution_count": 7,
   "metadata": {},
   "outputs": [],
   "source": [
    "dataList = []\n",
    "obsList = []\n",
    "for i, d in enumerate(dataset.train_data):\n",
    "    d_tensor = Variable(torch.from_numpy(d).float(), requires_grad=False)\n",
    "    dataList.append({\"g\": d_tensor})\n",
    " \n",
    "with open(\"data/evidence_train.txt\", 'r') as f:\n",
    "    obsList = f.read().strip().strip(\"#evidence\").split(\"#evidence\")"
   ]
  },
  {
   "cell_type": "markdown",
   "metadata": {},
   "source": [
    "### Construct testDataList and testObsList"
   ]
  },
  {
   "cell_type": "code",
   "execution_count": 8,
   "metadata": {},
   "outputs": [],
   "source": [
    "testDataList = []\n",
    "testObsList = []\n",
    "\n",
    "for d in dataset.test_data:\n",
    "    d_tensor = Variable(torch.from_numpy(d).float(), requires_grad=False)\n",
    "    testDataList.append({\"g\": d_tensor})\n",
    "\n",
    "with open(\"data/evidence_test.txt\", 'r') as f:\n",
    "    testObsList = f.read().strip().strip(\"#evidence\").split(\"#evidence\")"
   ]
  },
  {
   "cell_type": "markdown",
   "metadata": {},
   "source": [
    "## Training and Testing\n",
    "\n",
    "Note that our target is to find the path with the highest probability, which is represented by the optimal stable models of the logic program. To find the optimal stable models instead of stable models during training, we need to specify \"opt=True\" in the learning function."
   ]
  },
  {
   "cell_type": "code",
   "execution_count": 9,
   "metadata": {
    "scrolled": true
   },
   "outputs": [
    {
     "name": "stdout",
     "output_type": "stream",
     "text": [
      "The accuracy for constraint 1 is 0.0\n",
      "The accuracy for constraint 1 is 0.005\n",
      "The accuracy for constraint 1 is 0.03166666666666667\n",
      "The accuracy for constraint 1 is 0.10833333333333334\n",
      "The accuracy for constraint 1 is 0.16833333333333333\n",
      "The accuracy for constraint 1 is 0.26\n",
      "The accuracy for constraint 1 is 0.29\n",
      "The accuracy for constraint 1 is 0.28833333333333333\n",
      "The accuracy for constraint 1 is 0.325\n",
      "The accuracy for constraint 1 is 0.335\n",
      "The accuracy for constraint 1 is 0.38333333333333336\n",
      "The accuracy for constraint 1 is 0.38\n",
      "The accuracy for constraint 1 is 0.43666666666666665\n",
      "The accuracy for constraint 1 is 0.5016666666666667\n",
      "The accuracy for constraint 1 is 0.505\n",
      "The accuracy for constraint 1 is 0.495\n",
      "The accuracy for constraint 1 is 0.455\n",
      "The accuracy for constraint 1 is 0.5333333333333333\n",
      "The accuracy for constraint 1 is 0.5166666666666667\n",
      "The accuracy for constraint 1 is 0.505\n",
      "The accuracy for constraint 1 is 0.495\n",
      "The accuracy for constraint 1 is 0.5133333333333333\n",
      "The accuracy for constraint 1 is 0.565\n",
      "The accuracy for constraint 1 is 0.5566666666666666\n",
      "The accuracy for constraint 1 is 0.5533333333333333\n",
      "The accuracy for constraint 1 is 0.58\n",
      "The accuracy for constraint 1 is 0.49666666666666665\n",
      "The accuracy for constraint 1 is 0.58\n",
      "The accuracy for constraint 1 is 0.5633333333333334\n",
      "The accuracy for constraint 1 is 0.54\n",
      "The accuracy for constraint 1 is 0.5616666666666666\n",
      "The accuracy for constraint 1 is 0.5333333333333333\n",
      "The accuracy for constraint 1 is 0.5283333333333333\n",
      "The accuracy for constraint 1 is 0.5666666666666667\n",
      "The accuracy for constraint 1 is 0.5416666666666666\n",
      "The accuracy for constraint 1 is 0.5633333333333334\n",
      "The accuracy for constraint 1 is 0.555\n",
      "The accuracy for constraint 1 is 0.5683333333333334\n",
      "The accuracy for constraint 1 is 0.5916666666666667\n",
      "The accuracy for constraint 1 is 0.6616666666666666\n",
      "The accuracy for constraint 1 is 0.6116666666666667\n",
      "The accuracy for constraint 1 is 0.6016666666666667\n",
      "The accuracy for constraint 1 is 0.5933333333333334\n",
      "The accuracy for constraint 1 is 0.66\n",
      "The accuracy for constraint 1 is 0.5683333333333334\n",
      "The accuracy for constraint 1 is 0.665\n",
      "The accuracy for constraint 1 is 0.67\n",
      "The accuracy for constraint 1 is 0.655\n",
      "The accuracy for constraint 1 is 0.6166666666666667\n",
      "The accuracy for constraint 1 is 0.6683333333333333\n",
      "The accuracy for constraint 1 is 0.6183333333333333\n",
      "The accuracy for constraint 1 is 0.6666666666666666\n",
      "The accuracy for constraint 1 is 0.6816666666666666\n",
      "The accuracy for constraint 1 is 0.6366666666666667\n",
      "The accuracy for constraint 1 is 0.6516666666666666\n",
      "The accuracy for constraint 1 is 0.6416666666666667\n",
      "The accuracy for constraint 1 is 0.6633333333333333\n",
      "The accuracy for constraint 1 is 0.6666666666666666\n",
      "The accuracy for constraint 1 is 0.6833333333333333\n",
      "The accuracy for constraint 1 is 0.6583333333333333\n",
      "The accuracy for constraint 1 is 0.6366666666666667\n",
      "The accuracy for constraint 1 is 0.64\n",
      "The accuracy for constraint 1 is 0.6483333333333333\n",
      "The accuracy for constraint 1 is 0.7033333333333334\n",
      "The accuracy for constraint 1 is 0.7233333333333334\n",
      "The accuracy for constraint 1 is 0.6966666666666667\n",
      "The accuracy for constraint 1 is 0.7033333333333334\n",
      "The accuracy for constraint 1 is 0.6766666666666666\n",
      "The accuracy for constraint 1 is 0.7083333333333334\n",
      "The accuracy for constraint 1 is 0.7366666666666667\n",
      "The accuracy for constraint 1 is 0.665\n",
      "The accuracy for constraint 1 is 0.6866666666666666\n",
      "The accuracy for constraint 1 is 0.6783333333333333\n",
      "The accuracy for constraint 1 is 0.7066666666666667\n",
      "The accuracy for constraint 1 is 0.675\n",
      "The accuracy for constraint 1 is 0.725\n",
      "The accuracy for constraint 1 is 0.7316666666666667\n",
      "The accuracy for constraint 1 is 0.6733333333333333\n",
      "The accuracy for constraint 1 is 0.73\n",
      "The accuracy for constraint 1 is 0.7033333333333334\n",
      "The accuracy for constraint 1 is 0.7183333333333334\n",
      "The accuracy for constraint 1 is 0.6666666666666666\n",
      "The accuracy for constraint 1 is 0.73\n",
      "The accuracy for constraint 1 is 0.715\n",
      "The accuracy for constraint 1 is 0.76\n",
      "The accuracy for constraint 1 is 0.6933333333333334\n",
      "The accuracy for constraint 1 is 0.73\n",
      "The accuracy for constraint 1 is 0.675\n",
      "The accuracy for constraint 1 is 0.6783333333333333\n",
      "The accuracy for constraint 1 is 0.7016666666666667\n",
      "The accuracy for constraint 1 is 0.685\n",
      "The accuracy for constraint 1 is 0.655\n",
      "The accuracy for constraint 1 is 0.65\n",
      "The accuracy for constraint 1 is 0.7266666666666667\n",
      "The accuracy for constraint 1 is 0.7033333333333334\n",
      "The accuracy for constraint 1 is 0.6816666666666666\n",
      "The accuracy for constraint 1 is 0.7366666666666667\n",
      "The accuracy for constraint 1 is 0.7433333333333333\n",
      "The accuracy for constraint 1 is 0.705\n",
      "The accuracy for constraint 1 is 0.7\n",
      "The accuracy for constraint 1 is 0.6866666666666666\n",
      "The accuracy for constraint 1 is 0.6866666666666666\n",
      "The accuracy for constraint 1 is 0.7066666666666667\n",
      "The accuracy for constraint 1 is 0.7\n",
      "The accuracy for constraint 1 is 0.7133333333333334\n",
      "The accuracy for constraint 1 is 0.7083333333333334\n",
      "The accuracy for constraint 1 is 0.695\n",
      "The accuracy for constraint 1 is 0.7033333333333334\n",
      "The accuracy for constraint 1 is 0.7333333333333333\n",
      "The accuracy for constraint 1 is 0.7116666666666667\n",
      "The accuracy for constraint 1 is 0.7433333333333333\n",
      "The accuracy for constraint 1 is 0.7116666666666667\n",
      "The accuracy for constraint 1 is 0.72\n",
      "The accuracy for constraint 1 is 0.7383333333333333\n",
      "The accuracy for constraint 1 is 0.6633333333333333\n",
      "The accuracy for constraint 1 is 0.71\n",
      "The accuracy for constraint 1 is 0.72\n",
      "The accuracy for constraint 1 is 0.73\n",
      "The accuracy for constraint 1 is 0.7083333333333334\n",
      "The accuracy for constraint 1 is 0.72\n",
      "The accuracy for constraint 1 is 0.7333333333333333\n",
      "The accuracy for constraint 1 is 0.7683333333333333\n",
      "The accuracy for constraint 1 is 0.7133333333333334\n",
      "The accuracy for constraint 1 is 0.7033333333333334\n",
      "The accuracy for constraint 1 is 0.72\n",
      "The accuracy for constraint 1 is 0.74\n",
      "The accuracy for constraint 1 is 0.7316666666666667\n",
      "The accuracy for constraint 1 is 0.66\n",
      "The accuracy for constraint 1 is 0.7166666666666667\n",
      "The accuracy for constraint 1 is 0.7416666666666667\n",
      "The accuracy for constraint 1 is 0.72\n",
      "The accuracy for constraint 1 is 0.7483333333333333\n",
      "The accuracy for constraint 1 is 0.735\n",
      "The accuracy for constraint 1 is 0.7433333333333333\n",
      "The accuracy for constraint 1 is 0.7216666666666667\n",
      "The accuracy for constraint 1 is 0.745\n",
      "The accuracy for constraint 1 is 0.7766666666666666\n",
      "The accuracy for constraint 1 is 0.7566666666666667\n",
      "The accuracy for constraint 1 is 0.7233333333333334\n",
      "The accuracy for constraint 1 is 0.7566666666666667\n",
      "The accuracy for constraint 1 is 0.7216666666666667\n",
      "The accuracy for constraint 1 is 0.7283333333333334\n",
      "The accuracy for constraint 1 is 0.6783333333333333\n",
      "The accuracy for constraint 1 is 0.735\n",
      "The accuracy for constraint 1 is 0.7616666666666667\n",
      "The accuracy for constraint 1 is 0.7266666666666667\n",
      "The accuracy for constraint 1 is 0.7433333333333333\n",
      "The accuracy for constraint 1 is 0.7233333333333334\n",
      "The accuracy for constraint 1 is 0.7316666666666667\n",
      "The accuracy for constraint 1 is 0.7116666666666667\n",
      "The accuracy for constraint 1 is 0.7266666666666667\n",
      "The accuracy for constraint 1 is 0.76\n",
      "The accuracy for constraint 1 is 0.7216666666666667\n",
      "The accuracy for constraint 1 is 0.6716666666666666\n",
      "The accuracy for constraint 1 is 0.6966666666666667\n",
      "The accuracy for constraint 1 is 0.775\n",
      "The accuracy for constraint 1 is 0.6616666666666666\n",
      "The accuracy for constraint 1 is 0.67\n",
      "The accuracy for constraint 1 is 0.6916666666666667\n",
      "The accuracy for constraint 1 is 0.7633333333333333\n",
      "The accuracy for constraint 1 is 0.7383333333333333\n",
      "The accuracy for constraint 1 is 0.7566666666666667\n",
      "The accuracy for constraint 1 is 0.7483333333333333\n",
      "The accuracy for constraint 1 is 0.7116666666666667\n",
      "The accuracy for constraint 1 is 0.7333333333333333\n",
      "The accuracy for constraint 1 is 0.73\n",
      "The accuracy for constraint 1 is 0.7683333333333333\n",
      "The accuracy for constraint 1 is 0.7533333333333333\n",
      "The accuracy for constraint 1 is 0.7316666666666667\n",
      "The accuracy for constraint 1 is 0.7466666666666667\n",
      "The accuracy for constraint 1 is 0.7516666666666667\n",
      "The accuracy for constraint 1 is 0.7116666666666667\n"
     ]
    },
    {
     "name": "stdout",
     "output_type": "stream",
     "text": [
      "The accuracy for constraint 1 is 0.75\n",
      "The accuracy for constraint 1 is 0.72\n",
      "The accuracy for constraint 1 is 0.7316666666666667\n",
      "The accuracy for constraint 1 is 0.7316666666666667\n",
      "The accuracy for constraint 1 is 0.7266666666666667\n",
      "The accuracy for constraint 1 is 0.76\n",
      "The accuracy for constraint 1 is 0.7183333333333334\n",
      "The accuracy for constraint 1 is 0.745\n",
      "The accuracy for constraint 1 is 0.7483333333333333\n",
      "The accuracy for constraint 1 is 0.7133333333333334\n",
      "The accuracy for constraint 1 is 0.73\n",
      "The accuracy for constraint 1 is 0.7383333333333333\n",
      "The accuracy for constraint 1 is 0.7433333333333333\n",
      "The accuracy for constraint 1 is 0.7166666666666667\n",
      "The accuracy for constraint 1 is 0.7033333333333334\n",
      "The accuracy for constraint 1 is 0.715\n",
      "The accuracy for constraint 1 is 0.7216666666666667\n",
      "The accuracy for constraint 1 is 0.7316666666666667\n",
      "The accuracy for constraint 1 is 0.7716666666666666\n",
      "The accuracy for constraint 1 is 0.7583333333333333\n",
      "The accuracy for constraint 1 is 0.775\n",
      "The accuracy for constraint 1 is 0.745\n",
      "The accuracy for constraint 1 is 0.6766666666666666\n",
      "The accuracy for constraint 1 is 0.7333333333333333\n",
      "The accuracy for constraint 1 is 0.7383333333333333\n",
      "The accuracy for constraint 1 is 0.73\n",
      "The accuracy for constraint 1 is 0.7516666666666667\n",
      "The accuracy for constraint 1 is 0.7283333333333334\n"
     ]
    }
   ],
   "source": [
    "for i in range(200):\n",
    "    print('Epoch {}...'.format(i+1))\n",
    "\tdlpmlnObj.learn(dataList, obsList, epoch=1, opt=True, storeSM=True)\n",
    "\tdlpmlnObj.testConstraint(testDataList, testObsList,[dprogram_test])"
   ]
  },
  {
   "cell_type": "markdown",
   "metadata": {},
   "source": [
    "## Comparison"
   ]
  },
  {
   "cell_type": "markdown",
   "metadata": {},
   "source": [
    "The following table compares the different accuracies on the test data between MLP Only\n",
    "trained by cross entropy loss and the same MLP trained by DeepLPMLN. "
   ]
  },
  {
   "cell_type": "code",
   "execution_count": 10,
   "metadata": {},
   "outputs": [
    {
     "data": {
      "image/png": "[encoded data removed]",
      "text/plain": [
       "<PIL.JpegImagePlugin.JpegImageFile image mode=RGB size=632x173 at 0x1235A7940>"
      ]
     },
     "metadata": {},
     "output_type": "display_data"
    }
   ],
   "source": [
    "from IPython.display import display\n",
    "from PIL import Image\n",
    "\n",
    "path=\"accuracy_comparison.jpg\"\n",
    "display(Image.open(path))"
   ]
  },
  {
   "cell_type": "markdown",
   "metadata": {},
   "source": [
    "In the above table, the label accuracy is the measure against the label for which the neural\n",
    "network is trained for. Note that the MRP problem (and the SP and the top K in the next\n",
    "section) are not “functional” problems in the sense that there may be multiple solutions\n",
    "possible. In such a case, we select only one among them as the label in the training set to be in\n",
    "favor of neural network learning.\n",
    "\n",
    "However, it is possible that the prediction different from the label is still correct. To account for\n",
    "this, we consider the ultimate accuracy, which counts such prediction correct. The near\n",
    "ultimate accuracy is similar but a bit more relaxed. It allows more predictions to be correct by\n",
    "including near optimal paths in which the number of edges is the same as that of a most\n",
    "reliable path but a 0.512 edge is contained instead of a 0.8 edge.\n",
    "\n",
    "The constraint accuracy counts if the prediction satisfies the simple-path and the reachability\n",
    "constraints regardless whether it’s most reliable or not.\n"
   ]
  }
 ],
 "metadata": {
  "kernelspec": {
   "display_name": "Python 3",
   "language": "python",
   "name": "python3"
  },
  "language_info": {
   "codemirror_mode": {
    "name": "ipython",
    "version": 3
   },
   "file_extension": ".py",
   "mimetype": "text/x-python",
   "name": "python",
   "nbconvert_exporter": "python",
   "pygments_lexer": "ipython3",
   "version": "3.7.1"
  }
 },
 "nbformat": 4,
 "nbformat_minor": 2
}
