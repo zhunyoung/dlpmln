{
 "cells": [
  {
   "cell_type": "markdown",
   "metadata": {},
   "source": [
    "# Most Reliable Path"
   ]
  },
  {
   "cell_type": "markdown",
   "metadata": {},
   "source": [
    "Most Reliable Path (MRP) is a variant of the Shortest Path Problem, where, each edge is\n",
    "randomly associated with probabilities (0.512 or 0.8) which denotes the “reliability” of the edge,\n",
    "and the task is to find the most reliable path between the source and the destination node. We\n",
    "do not remove edges this time.\n",
    "\n",
    "We use the same 5-layer MLP in the SP experiment as the baseline. We also use the simplepath and the reachability constraints to train the neural network by DeepLPMLN. Besides, we\n",
    "use weak constraints to represent the probability of each edge in the grid."
   ]
  },
  {
   "cell_type": "markdown",
   "metadata": {},
   "source": [
    "## Imports"
   ]
  },
  {
   "cell_type": "code",
   "execution_count": 8,
   "metadata": {},
   "outputs": [],
   "source": [
    "import sys\n",
    "sys.path.append(\"../../\")\n",
    "from dlpmln import DeepLPMLN\n",
    "import torch\n",
    "from torch.autograd import Variable\n",
    "import numpy as np\n",
    "import time\n",
    "from network import FC\n",
    "from dataGen import GridProbData\n",
    "import random"
   ]
  },
  {
   "cell_type": "markdown",
   "metadata": {},
   "source": [
    "## Define dprogram and dprogram_test"
   ]
  },
  {
   "cell_type": "code",
   "execution_count": 9,
   "metadata": {},
   "outputs": [],
   "source": [
    "dprogram = '''\n",
    "grid(g).\n",
    "nn(m(g,24), nn_edge, [t,f]) :- grid(g).\n",
    "sp(0,1) :- nn_edge(g, 0, t).\n",
    "sp(1,2) :- nn_edge(g, 1, t).\n",
    "sp(2,3) :- nn_edge(g, 2, t).\n",
    "sp(4,5) :- nn_edge(g, 3, t).\n",
    "sp(5,6) :- nn_edge(g, 4, t).\n",
    "sp(6,7) :- nn_edge(g, 5, t).\n",
    "sp(8,9) :- nn_edge(g, 6, t).\n",
    "sp(9,10) :- nn_edge(g, 7, t).\n",
    "sp(10,11) :- nn_edge(g, 8, t).\n",
    "sp(12,13) :- nn_edge(g, 9, t).\n",
    "sp(13,14) :- nn_edge(g, 10, t).\n",
    "sp(14,15) :- nn_edge(g, 11, t).\n",
    "sp(0,4) :- nn_edge(g, 12, t).\n",
    "sp(4,8) :- nn_edge(g, 13, t).\n",
    "sp(8,12) :- nn_edge(g, 14, t).\n",
    "sp(1,5) :- nn_edge(g, 15, t).\n",
    "sp(5,9) :- nn_edge(g, 16, t).\n",
    "sp(9,13) :- nn_edge(g, 17, t).\n",
    "sp(2,6) :- nn_edge(g, 18, t).\n",
    "sp(6,10) :- nn_edge(g, 19, t).\n",
    "sp(10,14) :- nn_edge(g, 20, t).\n",
    "sp(3,7) :- nn_edge(g, 21, t).\n",
    "sp(7,11) :- nn_edge(g, 22, t).\n",
    "sp(11,15) :- nn_edge(g, 23, t).\n",
    "sp(X,Y) :- sp(Y,X).\n",
    "mistake :- X=0..15, #count{Y: sp(X,Y)} = 1.\n",
    "mistake :- X=0..15, #count{Y: sp(X,Y)} >= 3.\n",
    "reachable(X, Y) :- sp(X, Y).\n",
    "reachable(X, Y) :- reachable(X, Z), sp(Z, Y).\n",
    "mistake :- sp(X, _), sp(Y, _), not reachable(X, Y).\n",
    "'''\n",
    "\n",
    "dprogram_test = '''\n",
    "grid(g).\n",
    "sp(0,1) :- nn_edge(g, 0, t).\n",
    "sp(1,2) :- nn_edge(g, 1, t).\n",
    "sp(2,3) :- nn_edge(g, 2, t).\n",
    "sp(4,5) :- nn_edge(g, 3, t).\n",
    "sp(5,6) :- nn_edge(g, 4, t).\n",
    "sp(6,7) :- nn_edge(g, 5, t).\n",
    "sp(8,9) :- nn_edge(g, 6, t).\n",
    "sp(9,10) :- nn_edge(g, 7, t).\n",
    "sp(10,11) :- nn_edge(g, 8, t).\n",
    "sp(12,13) :- nn_edge(g, 9, t).\n",
    "sp(13,14) :- nn_edge(g, 10, t).\n",
    "sp(14,15) :- nn_edge(g, 11, t).\n",
    "sp(0,4) :- nn_edge(g, 12, t).\n",
    "sp(4,8) :- nn_edge(g, 13, t).\n",
    "sp(8,12) :- nn_edge(g, 14, t).\n",
    "sp(1,5) :- nn_edge(g, 15, t).\n",
    "sp(5,9) :- nn_edge(g, 16, t).\n",
    "sp(9,13) :- nn_edge(g, 17, t).\n",
    "sp(2,6) :- nn_edge(g, 18, t).\n",
    "sp(6,10) :- nn_edge(g, 19, t).\n",
    "sp(10,14) :- nn_edge(g, 20, t).\n",
    "sp(3,7) :- nn_edge(g, 21, t).\n",
    "sp(7,11) :- nn_edge(g, 22, t).\n",
    "sp(11,15) :- nn_edge(g, 23, t).\n",
    "sp(X,Y) :- sp(Y,X).\n",
    "mistake :- X=0..15, #count{Y: sp(X,Y)} = 1.\n",
    "mistake :- X=0..15, #count{Y: sp(X,Y)} >= 3.\n",
    "reachable(X, Y) :- sp(X, Y).\n",
    "reachable(X, Y) :- reachable(X, Z), sp(Z, Y).\n",
    "mistake :- sp(X, _), sp(Y, _), not reachable(X, Y).\n",
    "'''"
   ]
  },
  {
   "cell_type": "markdown",
   "metadata": {},
   "source": [
    "## Dataset\n",
    "\n",
    "A GridProbData object with 6 attributes: train_data, test_data, valid_data, train_labels,  \n",
    "\n",
    "test_labels, valid_labels  \n",
    "train_data is an numpy array of size (1800, 40). It consists of 1800 data as follows \n",
    "\n",
    ">[  \n",
    "data,  \n",
    "...,  \n",
    "data  \n",
    "]  \n",
    "\n",
    "where data is a vector (numpy array) of length 40. For example, the data shown below  \n",
    ">        [  \n",
    "        0.512 0.8 0.512 0.8 0.512  \n",
    "        0.512 0.8 0.512 0.512 0.8  \n",
    "        0.8 0.512 0.512 0.8 0.512  \n",
    "        0.512 0.512 0.512 0.512 0.8  \n",
    "        0.512 0.8 0.512 0.8  \n",
    "        10000 00000 01000 0  \n",
    "        ]  \n",
    "\n",
    "defines the 24 probabilities of the 24 edges and specified that the nodes 0 and 11 are  \n",
    "the starting and ending nodes.  \n",
    "train_labels is an numpy array of size (1800, 24). It consists of 1800 label as follows.  \n",
    ">[  \n",
    "label,  \n",
    "...,  \n",
    "label  \n",
    "]  \n",
    "\n",
    "where label is a vector (numpy array) of length 24. For example, the label shown below  \n",
    ">[  \n",
    "11100 00000 00000 00000 0110  \n",
    "]  \n",
    "\n",
    "means that the edges 0, 1, 2, 21, 22 form a most reliable path.  \n",
    "test_data is a numpy array of size (600, 40).  \n",
    "valid_data is a numpy array of size (600, 40).  \n",
    "test_labels is a numpy array of size (600, 24).  \n",
    "valid_labels is a numpy array of size (600, 24).  \n",
    "\n"
   ]
  },
  {
   "cell_type": "markdown",
   "metadata": {},
   "source": [
    "## Create Neural Network "
   ]
  },
  {
   "cell_type": "code",
   "execution_count": 10,
   "metadata": {
    "scrolled": true
   },
   "outputs": [
    {
     "name": "stdout",
     "output_type": "stream",
     "text": [
      "Neural Network (MLP) Structure: (40, 50, 50, 50, 50, 50, 24)\n"
     ]
    }
   ],
   "source": [
    "m = FC(40, *[50, 50, 50, 50, 50], 24)\n",
    "\n",
    "nnMapping = {'m': m}\n",
    "\n",
    "optimizer = {'m':torch.optim.Adam(m.parameters(), lr=0.001)}"
   ]
  },
  {
   "cell_type": "markdown",
   "metadata": {},
   "source": [
    "## Create DeepLPMLN object"
   ]
  },
  {
   "cell_type": "code",
   "execution_count": 11,
   "metadata": {},
   "outputs": [],
   "source": [
    "dlpmlnObj = DeepLPMLN(dprogram, nnMapping, optimizer)"
   ]
  },
  {
   "cell_type": "markdown",
   "metadata": {},
   "source": [
    "## Process the data"
   ]
  },
  {
   "cell_type": "code",
   "execution_count": 12,
   "metadata": {},
   "outputs": [
    {
     "name": "stdout",
     "output_type": "stream",
     "text": [
      "there are 3000 data in total, 60% training data, 20% validation data, 20% testing data!\n"
     ]
    }
   ],
   "source": [
    " \n",
    "dataset = GridProbData(\"data/data.txt\")\n",
    "dataList = []\n",
    "obsList = []"
   ]
  },
  {
   "cell_type": "markdown",
   "metadata": {},
   "source": [
    "### Populate dataList and obsList"
   ]
  },
  {
   "cell_type": "code",
   "execution_count": 13,
   "metadata": {},
   "outputs": [],
   "source": [
    "for i, d in enumerate(dataset.train_data):\n",
    "    d_tensor = Variable(torch.from_numpy(d).float(), requires_grad=False)\n",
    "    dataList.append({\"g\": d_tensor})\n",
    "\n",
    "    \n",
    "with open(\"data/evidence_train.txt\", 'r') as f:\n",
    "    obsList = f.read().strip().strip(\"#evidence\").split(\"#evidence\")"
   ]
  },
  {
   "cell_type": "markdown",
   "metadata": {},
   "source": [
    "Do the same for the test data."
   ]
  },
  {
   "cell_type": "code",
   "execution_count": 14,
   "metadata": {},
   "outputs": [],
   "source": [
    "testData = []\n",
    "testObsLost = []\n",
    "\n",
    "for d in dataset.test_data:\n",
    "    d_tensor = Variable(torch.from_numpy(d).float(), requires_grad=False)\n",
    "    testData.append({\"g\": d_tensor})\n",
    "    \n",
    "\n",
    "\n",
    "with open(\"data/evidence_test.txt\", 'r') as f:\n",
    "    testObsLost = f.read().strip().strip(\"#evidence\").split(\"#evidence\")\n",
    "\n",
    "\n",
    "\n"
   ]
  },
  {
   "cell_type": "markdown",
   "metadata": {},
   "source": [
    "## Training and testing"
   ]
  },
  {
   "cell_type": "code",
   "execution_count": null,
   "metadata": {
    "scrolled": true
   },
   "outputs": [
    {
     "name": "stdout",
     "output_type": "stream",
     "text": [
      "Training for epoch 1 ...\n",
      "Training for epoch 2 ...\n",
      "Training for epoch 3 ...\n",
      "Training for epoch 4 ...\n",
      "Training for epoch 5 ...\n",
      "Training for epoch 6 ...\n",
      "Training for epoch 7 ...\n",
      "Training for epoch 8 ...\n",
      "Training for epoch 9 ...\n",
      "Training for epoch 10 ...\n",
      "Training for epoch 11 ...\n",
      "Training for epoch 12 ...\n",
      "Training for epoch 13 ...\n",
      "Training for epoch 14 ...\n",
      "Training for epoch 15 ...\n",
      "Training for epoch 16 ...\n",
      "Training for epoch 17 ...\n",
      "Training for epoch 18 ...\n",
      "Training for epoch 19 ...\n",
      "Training for epoch 20 ...\n",
      "Training for epoch 21 ...\n",
      "Training for epoch 22 ...\n",
      "Training for epoch 23 ...\n",
      "Training for epoch 24 ...\n",
      "Training for epoch 25 ...\n",
      "Training for epoch 26 ...\n",
      "Training for epoch 27 ...\n",
      "Training for epoch 28 ...\n",
      "Training for epoch 29 ...\n",
      "Training for epoch 30 ...\n",
      "Training for epoch 31 ...\n",
      "Training for epoch 32 ...\n",
      "Training for epoch 33 ...\n",
      "Training for epoch 34 ...\n",
      "Training for epoch 35 ...\n",
      "Training for epoch 36 ...\n",
      "Training for epoch 37 ...\n",
      "Training for epoch 38 ...\n",
      "Training for epoch 39 ...\n",
      "Training for epoch 40 ...\n",
      "Training for epoch 41 ...\n",
      "Training for epoch 42 ...\n",
      "Training for epoch 43 ...\n",
      "Training for epoch 44 ...\n",
      "Training for epoch 45 ...\n",
      "Training for epoch 46 ...\n",
      "Training for epoch 47 ...\n",
      "Training for epoch 48 ...\n",
      "Training for epoch 49 ...\n",
      "Training for epoch 50 ...\n",
      "Training for epoch 51 ...\n",
      "Training for epoch 52 ...\n"
     ]
    }
   ],
   "source": [
    "\n",
    "dlpmlnObj.learn(dataList = dataList, obsList = obsList, epoch=200, opt=True)\n",
    "dlpmlnObj.testConstraint(testData, testObsLost,[dprogram_test])"
   ]
  },
  {
   "cell_type": "markdown",
   "metadata": {},
   "source": [
    "## Comparison"
   ]
  },
  {
   "cell_type": "markdown",
   "metadata": {},
   "source": [
    "The following table compares the different accuracies on the test data between MLP Only\n",
    "trained by cross entropy loss and the same MLP trained by DeepLPMLN. "
   ]
  },
  {
   "cell_type": "code",
   "execution_count": 17,
   "metadata": {},
   "outputs": [
    {
     "data": {
      "image/png": "[encoded data removed]",
      "text/plain": [
       "<PIL.JpegImagePlugin.JpegImageFile image mode=RGB size=632x173 at 0x21BC6095668>"
      ]
     },
     "metadata": {},
     "output_type": "display_data"
    }
   ],
   "source": [
    "from IPython.display import display\n",
    "from PIL import Image\n",
    "\n",
    "\n",
    "path=\"accuracy_comparison.jpg\"\n",
    "display(Image.open(path))"
   ]
  },
  {
   "cell_type": "markdown",
   "metadata": {},
   "source": [
    "In the above table, the label accuracy is the measure against the label for which the neural\n",
    "network is trained for. Note that the MRP problem (and the SP and the top K in the next\n",
    "section) are not “functional” problems in the sense that there may be multiple solutions\n",
    "possible. In such a case, we select only one among them as the label in the training set to be in\n",
    "favor of neural network learning.\n",
    "\n",
    "However, it is possible that the prediction different from the label is still correct. To account for\n",
    "this, we consider the ultimate accuracy, which counts such prediction correct. The near\n",
    "ultimate accuracy is similar but a bit more relaxed. It allows more predictions to be correct by\n",
    "including near optimal paths in which the number of edges is the same as that of a most\n",
    "reliable path but a 0.512 edge is contained instead of a 0.8 edge.\n",
    "\n",
    "The constraint accuracy counts if the prediction satisfies the simple-path and the reachability\n",
    "constraints regardless whether it’s most reliable or not.\n"
   ]
  }
 ],
 "metadata": {
  "kernelspec": {
   "display_name": "Python 3",
   "language": "python",
   "name": "python3"
  },
  "language_info": {
   "codemirror_mode": {
    "name": "ipython",
    "version": 3
   },
   "file_extension": ".py",
   "mimetype": "text/x-python",
   "name": "python",
   "nbconvert_exporter": "python",
   "pygments_lexer": "ipython3",
   "version": "3.7.1"
  }
 },
 "nbformat": 4,
 "nbformat_minor": 2
}
