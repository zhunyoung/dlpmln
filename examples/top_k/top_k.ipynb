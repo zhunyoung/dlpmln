{
 "cells": [
  {
   "cell_type": "markdown",
   "metadata": {},
   "source": [
    "# Top K"
   ]
  },
  {
   "cell_type": "markdown",
   "metadata": {},
   "source": [
    "We consider a simple version of the knapsack problem, where each item is associated with a value and the task is to choose a subset of the items that maximizes the sum of the values of the items. We assume there are 10 items with the same weight 2, and the capacity of the knapsack is 15. For example,\n",
    "\n",
    "    [2,7,3,5,2,3,8,2,1,5][1,2,3,4,5,6,9]\n",
    "\n",
    "is a labeled example such that the first list specifies the values of the 10 items and the second list is a solution that specifies the indices of the items to be put into the knapsack. Since the capacity of the knapsack is fixed to be 15 and each item has weight 2, one can infer that the solutions always contain 7 items.\n",
    "## Data Format\n",
    "\n",
    "In dataGen.py, a class named \"KsData\" is defined in the following way.\n",
    "\n",
    "KsData class has 6 attributes: train_data, test_data, valid_data, train_labels, test_labels, valid_labels.\n",
    "\n",
    "train_data is an numpy array of size (1800, 10). It consists of 1800 data as follows \n",
    "\n",
    "        [\n",
    "          data,\n",
    "          ...,\n",
    "          data\n",
    "        ]\n",
    "        \n",
    "where data is a vector (numpy array) of length 10. For example, the data shown below  \n",
    "\n",
    "        [2 2 1 3 1 2 8 1 5 1]\n",
    "        \n",
    "defines the 10 values of the 10 items.  \n",
    "train_labels is an numpy array of size (1800, 10). It consists of 1800 label as follows.  \n",
    "\n",
    "        [\n",
    "          label,\n",
    "          ...,\n",
    "          label\n",
    "        ]\n",
    "\n",
    "where label is a vector (numpy array) of length 24. For example, the label shown below  \n",
    "\n",
    "        [0 0 1 0 0 0 0 0 0 0]\n",
    "\n",
    "means that the item 2 is chosen to be put into the knapsack.  \n",
    "test_data is a numpy array of size (600, 10).   \n",
    "valid_data is a numpy array of size (600, 10).  \n",
    "test_labels is a numpy array of size (600, 10).  \n",
    "valid_labels is a numpy array of size (600, 10).  \n",
    "\n"
   ]
  },
  {
   "cell_type": "markdown",
   "metadata": {},
   "source": [
    "## Imports"
   ]
  },
  {
   "cell_type": "code",
   "execution_count": 1,
   "metadata": {},
   "outputs": [],
   "source": [
    "import sys\n",
    "sys.path.append(\"../../\")\n",
    "import random\n",
    "import time\n",
    "\n",
    "import torch\n",
    "from torch.autograd import Variable\n",
    "import numpy as np\n",
    "\n",
    "from dataGen import KsData\n",
    "from dlpmln import DeepLPMLN\n",
    "from network import FC"
   ]
  },
  {
   "cell_type": "markdown",
   "metadata": {},
   "source": [
    "## DeepLPMLN Program for Training and Testing"
   ]
  },
  {
   "cell_type": "code",
   "execution_count": 2,
   "metadata": {},
   "outputs": [],
   "source": [
    "dprogram='''\n",
    "% define k \n",
    "#const k = 7.\n",
    "\n",
    "topk(k).\n",
    "nn(m(k,10), in, [t,f]) :- topk(k).\n",
    "\n",
    "% we make a mistake if the total weight of the chosen items exceeds maxweight \n",
    "mistake :- #sum{1, I : in(k,I,t)} > k.\n",
    "'''\n",
    "\n",
    "dprogram_test='''\n",
    "% define k \n",
    "#const k = 7.\n",
    "\n",
    "topk(k).\n",
    "% we make a mistake if the total weight of the chosen items exceeds maxweight \n",
    "mistake :- #sum{1, I : in(k,I,t)} > k.\n",
    "'''"
   ]
  },
  {
   "cell_type": "markdown",
   "metadata": {},
   "source": [
    "## Neural Network Instantiation\n",
    "- Instantiate neural networks.\n",
    "- Define nnMapping: a dictionary that maps neural network names (i.e., strings) to the neural network objects (i.e., torch.nn.Module object)\n",
    "- Define optimizers: a dictionary that specifies the optimizer for each network (we use the Adam optimizer here)."
   ]
  },
  {
   "cell_type": "code",
   "execution_count": 3,
   "metadata": {},
   "outputs": [
    {
     "name": "stdout",
     "output_type": "stream",
     "text": [
      "Neural Network (MLP) Structure: (10, 50, 50, 50, 50, 50, 10)\n"
     ]
    }
   ],
   "source": [
    "m = FC(10, 50, 50, 50, 50, 50, 10)\n",
    "nnMapping = {'m': m}\n",
    "optimizers = {'m': torch.optim.Adam(m.parameters(), lr=0.001)}"
   ]
  },
  {
   "cell_type": "markdown",
   "metadata": {},
   "source": [
    "## Create DeepLPMLN Object"
   ]
  },
  {
   "cell_type": "code",
   "execution_count": 4,
   "metadata": {},
   "outputs": [],
   "source": [
    "dlpmlnObj = DeepLPMLN(dprogram, nnMapping, optimizers)"
   ]
  },
  {
   "cell_type": "markdown",
   "metadata": {},
   "source": [
    "## Create dataList and obsList for Training, testDataList and testObsList for Testing\n",
    "### Create the dataset object"
   ]
  },
  {
   "cell_type": "code",
   "execution_count": 5,
   "metadata": {},
   "outputs": [],
   "source": [
    "dataset = KsData(\"data/data.txt\",10)"
   ]
  },
  {
   "cell_type": "markdown",
   "metadata": {},
   "source": [
    "### Construct dataList and obsList"
   ]
  },
  {
   "cell_type": "code",
   "execution_count": 6,
   "metadata": {},
   "outputs": [],
   "source": [
    "dataList = []\n",
    "obsList = []\n",
    "\n",
    "for i, d in enumerate(dataset.train_data):\n",
    "    d_tensor = Variable(torch.from_numpy(d).float(), requires_grad=False)\n",
    "    dataList.append({\"k\": d_tensor})\n",
    "\n",
    "with open(\"data/evidence_train.txt\", 'r') as f:\n",
    "    obsList = f.read().strip().strip(\"#evidence\").split(\"#evidence\")"
   ]
  },
  {
   "cell_type": "markdown",
   "metadata": {},
   "source": [
    "### Construct testDataList and testObsList"
   ]
  },
  {
   "cell_type": "code",
   "execution_count": 7,
   "metadata": {},
   "outputs": [],
   "source": [
    "testDataList = []\n",
    "testObsList = []\n",
    "\n",
    "for d in dataset.test_data:\n",
    "    d_tensor = Variable(torch.from_numpy(d).float(), requires_grad=False)\n",
    "    testDataList.append({\"k\": d_tensor})\n",
    "\n",
    "with open(\"data/evidence_test.txt\", 'r') as f:\n",
    "    testObsList = f.read().strip().strip(\"#evidence\").split(\"#evidence\")"
   ]
  },
  {
   "cell_type": "markdown",
   "metadata": {},
   "source": [
    "## Training and Testing"
   ]
  },
  {
   "cell_type": "code",
   "execution_count": 8,
   "metadata": {
    "scrolled": true
   },
   "outputs": [
    {
     "name": "stdout",
     "output_type": "stream",
     "text": [
      "The accuracy for constraint 1 is 0.13333333333333333\n",
      "The accuracy for constraint 1 is 0.21666666666666667\n",
      "The accuracy for constraint 1 is 0.34\n",
      "The accuracy for constraint 1 is 0.3933333333333333\n",
      "The accuracy for constraint 1 is 0.395\n",
      "The accuracy for constraint 1 is 0.425\n",
      "The accuracy for constraint 1 is 0.4066666666666667\n",
      "The accuracy for constraint 1 is 0.41333333333333333\n",
      "The accuracy for constraint 1 is 0.45166666666666666\n",
      "The accuracy for constraint 1 is 0.4533333333333333\n",
      "The accuracy for constraint 1 is 0.435\n",
      "The accuracy for constraint 1 is 0.485\n",
      "The accuracy for constraint 1 is 0.5\n",
      "The accuracy for constraint 1 is 0.47333333333333333\n",
      "The accuracy for constraint 1 is 0.5183333333333333\n",
      "The accuracy for constraint 1 is 0.555\n",
      "The accuracy for constraint 1 is 0.535\n",
      "The accuracy for constraint 1 is 0.5566666666666666\n",
      "The accuracy for constraint 1 is 0.5783333333333334\n",
      "The accuracy for constraint 1 is 0.5783333333333334\n",
      "The accuracy for constraint 1 is 0.5666666666666667\n",
      "The accuracy for constraint 1 is 0.5816666666666667\n",
      "The accuracy for constraint 1 is 0.5666666666666667\n",
      "The accuracy for constraint 1 is 0.635\n",
      "The accuracy for constraint 1 is 0.6583333333333333\n",
      "The accuracy for constraint 1 is 0.615\n",
      "The accuracy for constraint 1 is 0.645\n",
      "The accuracy for constraint 1 is 0.63\n",
      "The accuracy for constraint 1 is 0.6633333333333333\n",
      "The accuracy for constraint 1 is 0.6466666666666666\n",
      "The accuracy for constraint 1 is 0.6333333333333333\n",
      "The accuracy for constraint 1 is 0.6633333333333333\n",
      "The accuracy for constraint 1 is 0.6816666666666666\n",
      "The accuracy for constraint 1 is 0.6383333333333333\n",
      "The accuracy for constraint 1 is 0.6416666666666667\n",
      "The accuracy for constraint 1 is 0.64\n",
      "The accuracy for constraint 1 is 0.6716666666666666\n",
      "The accuracy for constraint 1 is 0.6266666666666667\n",
      "The accuracy for constraint 1 is 0.655\n",
      "The accuracy for constraint 1 is 0.6816666666666666\n",
      "The accuracy for constraint 1 is 0.6633333333333333\n",
      "The accuracy for constraint 1 is 0.6566666666666666\n",
      "The accuracy for constraint 1 is 0.59\n",
      "The accuracy for constraint 1 is 0.6633333333333333\n",
      "The accuracy for constraint 1 is 0.6816666666666666\n",
      "The accuracy for constraint 1 is 0.67\n",
      "The accuracy for constraint 1 is 0.6133333333333333\n",
      "The accuracy for constraint 1 is 0.6833333333333333\n",
      "The accuracy for constraint 1 is 0.675\n",
      "The accuracy for constraint 1 is 0.6566666666666666\n",
      "The accuracy for constraint 1 is 0.6433333333333333\n",
      "The accuracy for constraint 1 is 0.6733333333333333\n",
      "The accuracy for constraint 1 is 0.6633333333333333\n",
      "The accuracy for constraint 1 is 0.6983333333333334\n",
      "The accuracy for constraint 1 is 0.685\n",
      "The accuracy for constraint 1 is 0.66\n",
      "The accuracy for constraint 1 is 0.6833333333333333\n",
      "The accuracy for constraint 1 is 0.6666666666666666\n",
      "The accuracy for constraint 1 is 0.6933333333333334\n",
      "The accuracy for constraint 1 is 0.7466666666666667\n",
      "The accuracy for constraint 1 is 0.7183333333333334\n",
      "The accuracy for constraint 1 is 0.695\n",
      "The accuracy for constraint 1 is 0.69\n",
      "The accuracy for constraint 1 is 0.6783333333333333\n",
      "The accuracy for constraint 1 is 0.7433333333333333\n",
      "The accuracy for constraint 1 is 0.7016666666666667\n",
      "The accuracy for constraint 1 is 0.7066666666666667\n",
      "The accuracy for constraint 1 is 0.685\n",
      "The accuracy for constraint 1 is 0.71\n",
      "The accuracy for constraint 1 is 0.6766666666666666\n",
      "The accuracy for constraint 1 is 0.6633333333333333\n",
      "The accuracy for constraint 1 is 0.6816666666666666\n",
      "The accuracy for constraint 1 is 0.6766666666666666\n",
      "The accuracy for constraint 1 is 0.6883333333333334\n",
      "The accuracy for constraint 1 is 0.6716666666666666\n",
      "The accuracy for constraint 1 is 0.7266666666666667\n",
      "The accuracy for constraint 1 is 0.7116666666666667\n",
      "The accuracy for constraint 1 is 0.705\n",
      "The accuracy for constraint 1 is 0.6783333333333333\n",
      "The accuracy for constraint 1 is 0.6716666666666666\n",
      "The accuracy for constraint 1 is 0.7016666666666667\n",
      "The accuracy for constraint 1 is 0.685\n",
      "The accuracy for constraint 1 is 0.7333333333333333\n",
      "The accuracy for constraint 1 is 0.7183333333333334\n",
      "The accuracy for constraint 1 is 0.7233333333333334\n",
      "The accuracy for constraint 1 is 0.7333333333333333\n",
      "The accuracy for constraint 1 is 0.73\n",
      "The accuracy for constraint 1 is 0.7266666666666667\n",
      "The accuracy for constraint 1 is 0.715\n",
      "The accuracy for constraint 1 is 0.735\n",
      "The accuracy for constraint 1 is 0.745\n",
      "The accuracy for constraint 1 is 0.7433333333333333\n",
      "The accuracy for constraint 1 is 0.7266666666666667\n",
      "The accuracy for constraint 1 is 0.68\n",
      "The accuracy for constraint 1 is 0.72\n",
      "The accuracy for constraint 1 is 0.7383333333333333\n",
      "The accuracy for constraint 1 is 0.7\n",
      "The accuracy for constraint 1 is 0.7166666666666667\n",
      "The accuracy for constraint 1 is 0.7183333333333334\n",
      "The accuracy for constraint 1 is 0.7316666666666667\n",
      "The accuracy for constraint 1 is 0.7383333333333333\n",
      "The accuracy for constraint 1 is 0.7316666666666667\n",
      "The accuracy for constraint 1 is 0.74\n",
      "The accuracy for constraint 1 is 0.6666666666666666\n",
      "The accuracy for constraint 1 is 0.6966666666666667\n",
      "The accuracy for constraint 1 is 0.7316666666666667\n",
      "The accuracy for constraint 1 is 0.7166666666666667\n",
      "The accuracy for constraint 1 is 0.7066666666666667\n",
      "The accuracy for constraint 1 is 0.71\n",
      "The accuracy for constraint 1 is 0.68\n",
      "The accuracy for constraint 1 is 0.73\n",
      "The accuracy for constraint 1 is 0.7166666666666667\n",
      "The accuracy for constraint 1 is 0.68\n",
      "The accuracy for constraint 1 is 0.7183333333333334\n",
      "The accuracy for constraint 1 is 0.7383333333333333\n",
      "The accuracy for constraint 1 is 0.72\n",
      "The accuracy for constraint 1 is 0.745\n",
      "The accuracy for constraint 1 is 0.7533333333333333\n",
      "The accuracy for constraint 1 is 0.7433333333333333\n",
      "The accuracy for constraint 1 is 0.76\n",
      "The accuracy for constraint 1 is 0.7383333333333333\n",
      "The accuracy for constraint 1 is 0.75\n",
      "The accuracy for constraint 1 is 0.75\n",
      "The accuracy for constraint 1 is 0.7033333333333334\n",
      "The accuracy for constraint 1 is 0.7583333333333333\n",
      "The accuracy for constraint 1 is 0.7416666666666667\n",
      "The accuracy for constraint 1 is 0.7633333333333333\n",
      "The accuracy for constraint 1 is 0.7483333333333333\n",
      "The accuracy for constraint 1 is 0.75\n",
      "The accuracy for constraint 1 is 0.7016666666666667\n",
      "The accuracy for constraint 1 is 0.735\n",
      "The accuracy for constraint 1 is 0.7533333333333333\n",
      "The accuracy for constraint 1 is 0.7316666666666667\n",
      "The accuracy for constraint 1 is 0.7183333333333334\n",
      "The accuracy for constraint 1 is 0.7133333333333334\n",
      "The accuracy for constraint 1 is 0.7616666666666667\n",
      "The accuracy for constraint 1 is 0.725\n",
      "The accuracy for constraint 1 is 0.725\n",
      "The accuracy for constraint 1 is 0.735\n",
      "The accuracy for constraint 1 is 0.7533333333333333\n",
      "The accuracy for constraint 1 is 0.75\n",
      "The accuracy for constraint 1 is 0.7416666666666667\n",
      "The accuracy for constraint 1 is 0.76\n",
      "The accuracy for constraint 1 is 0.7833333333333333\n",
      "The accuracy for constraint 1 is 0.7233333333333334\n",
      "The accuracy for constraint 1 is 0.7516666666666667\n",
      "The accuracy for constraint 1 is 0.73\n",
      "The accuracy for constraint 1 is 0.76\n",
      "The accuracy for constraint 1 is 0.74\n",
      "The accuracy for constraint 1 is 0.74\n",
      "The accuracy for constraint 1 is 0.7483333333333333\n",
      "The accuracy for constraint 1 is 0.7666666666666667\n",
      "The accuracy for constraint 1 is 0.7283333333333334\n",
      "The accuracy for constraint 1 is 0.7433333333333333\n",
      "The accuracy for constraint 1 is 0.7266666666666667\n",
      "The accuracy for constraint 1 is 0.76\n",
      "The accuracy for constraint 1 is 0.755\n",
      "The accuracy for constraint 1 is 0.7733333333333333\n",
      "The accuracy for constraint 1 is 0.7366666666666667\n",
      "The accuracy for constraint 1 is 0.7566666666666667\n",
      "The accuracy for constraint 1 is 0.78\n",
      "The accuracy for constraint 1 is 0.7466666666666667\n",
      "The accuracy for constraint 1 is 0.7716666666666666\n",
      "The accuracy for constraint 1 is 0.7633333333333333\n",
      "The accuracy for constraint 1 is 0.7616666666666667\n",
      "The accuracy for constraint 1 is 0.78\n",
      "The accuracy for constraint 1 is 0.755\n",
      "The accuracy for constraint 1 is 0.7333333333333333\n",
      "The accuracy for constraint 1 is 0.7316666666666667\n",
      "The accuracy for constraint 1 is 0.7466666666666667\n",
      "The accuracy for constraint 1 is 0.7366666666666667\n",
      "The accuracy for constraint 1 is 0.78\n",
      "The accuracy for constraint 1 is 0.755\n",
      "The accuracy for constraint 1 is 0.755\n"
     ]
    },
    {
     "name": "stdout",
     "output_type": "stream",
     "text": [
      "The accuracy for constraint 1 is 0.74\n",
      "The accuracy for constraint 1 is 0.7733333333333333\n",
      "The accuracy for constraint 1 is 0.76\n",
      "The accuracy for constraint 1 is 0.7733333333333333\n",
      "The accuracy for constraint 1 is 0.765\n",
      "The accuracy for constraint 1 is 0.735\n",
      "The accuracy for constraint 1 is 0.7433333333333333\n",
      "The accuracy for constraint 1 is 0.6983333333333334\n",
      "The accuracy for constraint 1 is 0.7733333333333333\n",
      "The accuracy for constraint 1 is 0.795\n",
      "The accuracy for constraint 1 is 0.7633333333333333\n",
      "The accuracy for constraint 1 is 0.7366666666666667\n",
      "The accuracy for constraint 1 is 0.7533333333333333\n",
      "The accuracy for constraint 1 is 0.775\n",
      "The accuracy for constraint 1 is 0.7616666666666667\n",
      "The accuracy for constraint 1 is 0.7616666666666667\n",
      "The accuracy for constraint 1 is 0.7983333333333333\n",
      "The accuracy for constraint 1 is 0.775\n",
      "The accuracy for constraint 1 is 0.7366666666666667\n",
      "The accuracy for constraint 1 is 0.7633333333333333\n",
      "The accuracy for constraint 1 is 0.7866666666666666\n",
      "The accuracy for constraint 1 is 0.7583333333333333\n",
      "The accuracy for constraint 1 is 0.77\n",
      "The accuracy for constraint 1 is 0.7566666666666667\n",
      "The accuracy for constraint 1 is 0.745\n",
      "The accuracy for constraint 1 is 0.7666666666666667\n"
     ]
    }
   ],
   "source": [
    "for i in range(200):\n",
    "\tdlpmlnObj.learn(dataList, obsList, epoch=1, opt=True, storeSM=True)\n",
    "\tdlpmlnObj.testConstraint(testDataList, testObsList, [dprogram_test])"
   ]
  }
 ],
 "metadata": {
  "kernelspec": {
   "display_name": "Python 3",
   "language": "python",
   "name": "python3"
  },
  "language_info": {
   "codemirror_mode": {
    "name": "ipython",
    "version": 3
   },
   "file_extension": ".py",
   "mimetype": "text/x-python",
   "name": "python",
   "nbconvert_exporter": "python",
   "pygments_lexer": "ipython3",
   "version": "3.7.3"
  }
 },
 "nbformat": 4,
 "nbformat_minor": 2
}
